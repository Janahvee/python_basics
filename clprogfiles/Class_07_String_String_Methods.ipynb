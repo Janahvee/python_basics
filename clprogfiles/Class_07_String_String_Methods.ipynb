{
 "cells": [
  {
   "cell_type": "code",
   "execution_count": null,
   "id": "6f7b8792",
   "metadata": {},
   "outputs": [],
   "source": [
    "# String\n",
    "    1. It is a seq.\n",
    "        - Indexing, slicing, Concatenation, Repetition, Membership, Length\n",
    "    "
   ]
  },
  {
   "cell_type": "code",
   "execution_count": null,
   "id": "8d524bc0",
   "metadata": {},
   "outputs": [],
   "source": [
    "# Indexing\n",
    "    Sequences in Python follows +ve and -ve indexing\n",
    "    +ve indexing starts from 0 from LHS\n",
    "    -ve indexing starts from -1 from right hand side"
   ]
  },
  {
   "cell_type": "code",
   "execution_count": 1,
   "id": "98c793da",
   "metadata": {
    "ExecuteTime": {
     "end_time": "2021-06-10T14:21:08.178235Z",
     "start_time": "2021-06-10T14:21:08.162969Z"
    }
   },
   "outputs": [
    {
     "name": "stdout",
     "output_type": "stream",
     "text": [
      "s 4499183536\n",
      "s 4499183536\n",
      "s 4499183536\n"
     ]
    }
   ],
   "source": [
    "# my_str = 'Python class'\n",
    "# print(my_str[11], id(my_str[11]))\n",
    "# print(my_str[10], id(my_str[10]))\n",
    "\n",
    "# a = 's'\n",
    "# print(a, id(a))"
   ]
  },
  {
   "cell_type": "code",
   "execution_count": 2,
   "id": "4be0f8ba",
   "metadata": {
    "ExecuteTime": {
     "end_time": "2021-06-10T14:22:16.215165Z",
     "start_time": "2021-06-10T14:22:16.205421Z"
    }
   },
   "outputs": [
    {
     "name": "stdout",
     "output_type": "stream",
     "text": [
      "10\n"
     ]
    }
   ],
   "source": [
    "print(my_str.index('s'))"
   ]
  },
  {
   "cell_type": "code",
   "execution_count": null,
   "id": "e3f62be7",
   "metadata": {},
   "outputs": [],
   "source": [
    "my_str = 'This is Python class'\n",
    "\n",
    "Step -> +ve -We do the slicing from left to right\n",
    "-ve\n",
    "\n",
    "<--------------------- Step -ve\n",
    "'This is Python class'\n",
    "---------------------> Step -> +ve\n",
    "\n",
    "# Default step is 1\n"
   ]
  },
  {
   "cell_type": "code",
   "execution_count": 4,
   "id": "7f504469",
   "metadata": {
    "ExecuteTime": {
     "end_time": "2021-06-10T14:44:04.204758Z",
     "start_time": "2021-06-10T14:44:04.198019Z"
    }
   },
   "outputs": [
    {
     "name": "stdout",
     "output_type": "stream",
     "text": [
      "Python\n",
      "Python\n"
     ]
    }
   ],
   "source": [
    "my_str = 'This is Python class'\n",
    "print(my_str[8:14:1])\n",
    "print(my_str[8:14])\n",
    "\n",
    "# If slicing is done from Left to right(if step is +ve) then your stop value is on right of your start value\n",
    "# If slicing is done from Right to(if step is -ve) left then your stop value is on left of your start value\n",
    "\n",
    "\n"
   ]
  },
  {
   "cell_type": "code",
   "execution_count": 5,
   "id": "49f5dd61",
   "metadata": {
    "ExecuteTime": {
     "end_time": "2021-06-10T14:46:10.829686Z",
     "start_time": "2021-06-10T14:46:10.820904Z"
    }
   },
   "outputs": [
    {
     "name": "stdout",
     "output_type": "stream",
     "text": [
      "nohtyP\n"
     ]
    }
   ],
   "source": [
    "print(my_str[13:7:-1])"
   ]
  },
  {
   "cell_type": "code",
   "execution_count": null,
   "id": "20b2b4bc",
   "metadata": {},
   "outputs": [],
   "source": [
    "Default start is 0\n",
    "Default stop is len(str)"
   ]
  },
  {
   "cell_type": "code",
   "execution_count": 7,
   "id": "5162f36f",
   "metadata": {
    "ExecuteTime": {
     "end_time": "2021-06-10T14:50:18.074912Z",
     "start_time": "2021-06-10T14:50:18.067227Z"
    }
   },
   "outputs": [
    {
     "name": "stdout",
     "output_type": "stream",
     "text": [
      "This is Python class\n",
      "This is Python class\n"
     ]
    }
   ],
   "source": [
    "# Defaut start is 0 and stop is len(my_str) if step is +ve\n",
    "\n",
    "print(my_str[::])\n",
    "print(my_str[0:len(my_str):1])"
   ]
  },
  {
   "cell_type": "code",
   "execution_count": 14,
   "id": "3eab939a",
   "metadata": {
    "ExecuteTime": {
     "end_time": "2021-06-10T14:53:15.357248Z",
     "start_time": "2021-06-10T14:53:15.344205Z"
    }
   },
   "outputs": [
    {
     "name": "stdout",
     "output_type": "stream",
     "text": [
      "ssalc nohtyP si sihT\n",
      "ssalc nohtyP si sihT\n"
     ]
    }
   ],
   "source": [
    "# Defaut start is -1 and stop is (-len(my_str)-1) if step is -ve\n",
    "print(my_str[::-1])\n",
    "print(my_str[-1:-len(my_str)-1:-1])"
   ]
  },
  {
   "cell_type": "code",
   "execution_count": 18,
   "id": "5d5978cd",
   "metadata": {
    "ExecuteTime": {
     "end_time": "2021-06-10T14:54:54.870286Z",
     "start_time": "2021-06-10T14:54:54.864077Z"
    }
   },
   "outputs": [
    {
     "name": "stdout",
     "output_type": "stream",
     "text": [
      "Ti sPto ls\n",
      "Tssyocs\n"
     ]
    }
   ],
   "source": [
    "# step can also be +/-1, +/-2, +/-3 ....\n",
    "\n",
    "my_str = 'This is Python class'\n",
    "print(my_str[::2])   # Slicing will be done from left to right\n",
    "print(my_str[::3])"
   ]
  },
  {
   "cell_type": "code",
   "execution_count": 19,
   "id": "a760712a",
   "metadata": {
    "ExecuteTime": {
     "end_time": "2021-06-10T14:55:14.644664Z",
     "start_time": "2021-06-10T14:55:14.638903Z"
    }
   },
   "outputs": [
    {
     "name": "stdout",
     "output_type": "stream",
     "text": [
      "sacnhy ish\n",
      "slnt  h\n"
     ]
    }
   ],
   "source": [
    "print(my_str[::-2])   # Slicing will be done from right to left\n",
    "print(my_str[::-3])"
   ]
  },
  {
   "cell_type": "code",
   "execution_count": 24,
   "id": "fcf3520e",
   "metadata": {
    "ExecuteTime": {
     "end_time": "2021-06-10T14:58:10.868966Z",
     "start_time": "2021-06-10T14:58:10.848677Z"
    }
   },
   "outputs": [
    {
     "ename": "TypeError",
     "evalue": "can only concatenate str (not \"int\") to str",
     "output_type": "error",
     "traceback": [
      "\u001b[0;31m---------------------------------------------------------------------------\u001b[0m",
      "\u001b[0;31mTypeError\u001b[0m                                 Traceback (most recent call last)",
      "\u001b[0;32m<ipython-input-24-2dd7e3706c74>\u001b[0m in \u001b[0;36m<module>\u001b[0;34m\u001b[0m\n\u001b[1;32m      7\u001b[0m \u001b[0;31m# print(str1+str2)\u001b[0m\u001b[0;34m\u001b[0m\u001b[0;34m\u001b[0m\u001b[0;34m\u001b[0m\u001b[0m\n\u001b[1;32m      8\u001b[0m \u001b[0;34m\u001b[0m\u001b[0m\n\u001b[0;32m----> 9\u001b[0;31m \u001b[0mprint\u001b[0m\u001b[0;34m(\u001b[0m\u001b[0mstr1\u001b[0m\u001b[0;34m+\u001b[0m\u001b[0;36m10\u001b[0m\u001b[0;34m)\u001b[0m\u001b[0;34m\u001b[0m\u001b[0;34m\u001b[0m\u001b[0m\n\u001b[0m\u001b[1;32m     10\u001b[0m \u001b[0;31m# print(str1+[10,20,30])\u001b[0m\u001b[0;34m\u001b[0m\u001b[0;34m\u001b[0m\u001b[0;34m\u001b[0m\u001b[0m\n",
      "\u001b[0;31mTypeError\u001b[0m: can only concatenate str (not \"int\") to str"
     ]
    }
   ],
   "source": [
    "# Concatenation - Combining of two strings\n",
    "# + Operation\n",
    "# And both the operand should be string type\n",
    "\n",
    "# str1 = 'Python'\n",
    "# str2 = 'Class'\n",
    "# print(str1+str2)\n",
    "\n",
    "# print(str1+10)\n",
    "# print(str1+[10,20,30])\n"
   ]
  },
  {
   "cell_type": "code",
   "execution_count": 27,
   "id": "7df0566f",
   "metadata": {
    "ExecuteTime": {
     "end_time": "2021-06-10T14:59:16.876797Z",
     "start_time": "2021-06-10T14:59:16.873443Z"
    }
   },
   "outputs": [],
   "source": [
    "# Repetition Operation - Is used to repeat a string\n",
    "# * operator\n",
    "# One of the operand should be string type and other should be int \n",
    "\n",
    "# print('Python' * 3)\n",
    "# print('Python' * 3.0)\n",
    "\n"
   ]
  },
  {
   "cell_type": "code",
   "execution_count": 31,
   "id": "0d203a4c",
   "metadata": {
    "ExecuteTime": {
     "end_time": "2021-06-10T15:00:06.782868Z",
     "start_time": "2021-06-10T15:00:06.778950Z"
    }
   },
   "outputs": [],
   "source": [
    "# Membership - in, not in\n",
    "\n",
    "# my_str = 'This is Python class'\n",
    "# print('is' in my_str)\n",
    "# print('i' in my_str)\n",
    "\n"
   ]
  },
  {
   "cell_type": "code",
   "execution_count": 32,
   "id": "70964075",
   "metadata": {
    "ExecuteTime": {
     "end_time": "2021-06-10T15:01:08.278204Z",
     "start_time": "2021-06-10T15:01:08.269090Z"
    }
   },
   "outputs": [
    {
     "name": "stdout",
     "output_type": "stream",
     "text": [
      "['__add__', '__class__', '__contains__', '__delattr__', '__dir__', '__doc__', '__eq__', '__format__', '__ge__', '__getattribute__', '__getitem__', '__getnewargs__', '__gt__', '__hash__', '__init__', '__init_subclass__', '__iter__', '__le__', '__len__', '__lt__', '__mod__', '__mul__', '__ne__', '__new__', '__reduce__', '__reduce_ex__', '__repr__', '__rmod__', '__rmul__', '__setattr__', '__sizeof__', '__str__', '__subclasshook__', 'capitalize', 'casefold', 'center', 'count', 'encode', 'endswith', 'expandtabs', 'find', 'format', 'format_map', 'index', 'isalnum', 'isalpha', 'isascii', 'isdecimal', 'isdigit', 'isidentifier', 'islower', 'isnumeric', 'isprintable', 'isspace', 'istitle', 'isupper', 'join', 'ljust', 'lower', 'lstrip', 'maketrans', 'partition', 'replace', 'rfind', 'rindex', 'rjust', 'rpartition', 'rsplit', 'rstrip', 'split', 'splitlines', 'startswith', 'strip', 'swapcase', 'title', 'translate', 'upper', 'zfill']\n"
     ]
    }
   ],
   "source": [
    "# String methods\n",
    "print(dir(my_str))\n",
    "\n",
    "# 'center', 'encode',  'expandtabs', 'find', \n",
    "# 'format', 'format_map', 'index', \n",
    "# 'join', 'ljust',  'lstrip', 'maketrans', 'partition', 'replace', 'rfind', 'rindex', \n",
    "# 'rjust', 'rpartition', 'rsplit', 'rstrip', 'split', 'splitlines',  'strip', \n",
    "# 'translate', 'zfill'\n",
    "\n"
   ]
  },
  {
   "cell_type": "code",
   "execution_count": 41,
   "id": "a2e55c71",
   "metadata": {
    "ExecuteTime": {
     "end_time": "2021-06-10T15:08:07.995459Z",
     "start_time": "2021-06-10T15:08:07.979283Z"
    }
   },
   "outputs": [
    {
     "data": {
      "text/plain": [
       "'this is python class'"
      ]
     },
     "execution_count": 41,
     "metadata": {},
     "output_type": "execute_result"
    }
   ],
   "source": [
    "# capitalize, title, lower, upper, swapcase, casefold\n",
    "\n",
    "# print(help(my_str.capitalize))\n",
    "\n",
    "my_str = 'this is Python class'\n",
    "# my_str.capitalize()     # Capitalize the first characters from the string\n",
    "\n",
    "# my_str.title()          # Converts the string in title case - first letter of each word will be capitalize\n",
    "\n",
    "\n",
    "# my_str.upper()          # Converts each characters into upper case\n",
    "\n",
    "# my_str.swapcase()       # Capital to lower and lower to capital\n",
    "\n",
    "# my_str.lower()          # Converts each characters into lower case - ASCII\n",
    "\n",
    "# my_str.casefold()       # Converts each characters into lower case - more aggressive than lower() - for caseless comparsion\n"
   ]
  },
  {
   "cell_type": "code",
   "execution_count": 43,
   "id": "1c00320f",
   "metadata": {
    "ExecuteTime": {
     "end_time": "2021-06-10T15:11:28.720432Z",
     "start_time": "2021-06-10T15:11:28.708053Z"
    }
   },
   "outputs": [
    {
     "name": "stdout",
     "output_type": "stream",
     "text": [
      "fließen\n",
      "fliessen\n"
     ]
    }
   ],
   "source": [
    "my_str = 'fließen'\n",
    "print(my_str.lower())\n",
    "\n",
    "print(my_str.casefold())\n",
    "\n",
    "# ASCII\n",
    "# Unicode\n"
   ]
  },
  {
   "cell_type": "code",
   "execution_count": 92,
   "id": "8b629069",
   "metadata": {
    "ExecuteTime": {
     "end_time": "2021-06-10T15:35:13.540390Z",
     "start_time": "2021-06-10T15:35:13.532524Z"
    }
   },
   "outputs": [
    {
     "name": "stdout",
     "output_type": "stream",
     "text": [
      "True\n",
      "True\n"
     ]
    }
   ],
   "source": [
    "# 'isidentifier',  'isspace', \n",
    "\n",
    "# isalnum() - Check whetehr string is either alphabet, numbers or alpha-numeric\n",
    "\n",
    "# my_str = \"Python7th\"\n",
    "# print(my_str.isalnum())\n",
    "\n",
    "# my_str1 = 'Pythonclass'\n",
    "# print(my_str1.isalnum())\n",
    "\n",
    "# my_str2 = '98745'\n",
    "# print(my_str2.isalnum())\n",
    "\n",
    "# isalpha() - whetheer the string is having only alphabets\n",
    "\n",
    "# my_str1.isalpha()\n",
    "# print(my_str2.isalpha())\n",
    "\n",
    "# isnumeric() - whether all characters are numbers\n",
    "# print(my_str2.isnumeric())\n",
    "\n",
    "# 'islower', 'istitle', 'isupper', \n",
    "\n",
    "# 'isascii', \n",
    "# my_str = 'fließen'\n",
    "# my_str1 = \"Python7th\"\n",
    "# print(my_str1.isascii())\n",
    "# print(my_str.isascii())\n",
    "\n",
    "\n",
    "# my_str1 = 'This is \\nPython class'\n",
    "# print(my_str1, my_str1.isprintable())\n",
    "# my_str2 = 'This is \\\\\\nPython class'\n",
    "# print(my_str2, my_str2.isprintable())\n",
    "\n",
    "\n",
    "# my_str = '\\n\\t \\v\\f'\n",
    "# print(my_str.isspace())\n",
    "\n",
    "# isidentifier() - True if string is a valid identifier else returns False, Exceptipon is Keywords\n",
    "\n",
    "# For = 100\n",
    "# for = 100\n",
    "\n",
    "# print('name'.isidentifier())\n",
    "# print('Name'.isidentifier())\n",
    "# print('Name1'.isidentifier())\n",
    "# print('2Name1'.isidentifier())\n",
    "# print('2Name1#'.isidentifier())\n",
    "\n",
    "print('__name__'.isidentifier())\n",
    "print('for'.isidentifier())\n",
    "\n",
    "\n",
    "\n",
    "\n",
    "\n"
   ]
  },
  {
   "cell_type": "code",
   "execution_count": 66,
   "id": "a8b5728d",
   "metadata": {
    "ExecuteTime": {
     "end_time": "2021-06-10T15:23:49.307459Z",
     "start_time": "2021-06-10T15:23:49.293503Z"
    }
   },
   "outputs": [
    {
     "name": "stdout",
     "output_type": "stream",
     "text": [
      "\\n\n"
     ]
    }
   ],
   "source": [
    "print('\\\\n')"
   ]
  },
  {
   "cell_type": "code",
   "execution_count": 71,
   "id": "cffa7e1b",
   "metadata": {
    "ExecuteTime": {
     "end_time": "2021-06-10T15:24:48.745950Z",
     "start_time": "2021-06-10T15:24:48.738187Z"
    }
   },
   "outputs": [
    {
     "name": "stdout",
     "output_type": "stream",
     "text": [
      "\\\n"
     ]
    }
   ],
   "source": [
    "print('\\\\')"
   ]
  },
  {
   "cell_type": "code",
   "execution_count": 72,
   "id": "95ca6800",
   "metadata": {
    "ExecuteTime": {
     "end_time": "2021-06-10T15:25:40.382702Z",
     "start_time": "2021-06-10T15:25:40.378516Z"
    }
   },
   "outputs": [],
   "source": [
    "# \\n - new line\n",
    "# \\t - horizontal tab\n",
    "# \\v - vertical tab\n",
    "# \\f - form feed"
   ]
  },
  {
   "cell_type": "code",
   "execution_count": 76,
   "id": "e6af5ec6",
   "metadata": {
    "ExecuteTime": {
     "end_time": "2021-06-10T15:30:04.061391Z",
     "start_time": "2021-06-10T15:29:59.676143Z"
    }
   },
   "outputs": [
    {
     "name": "stdout",
     "output_type": "stream",
     "text": [
      "Enter a password: Python@6543\n",
      "Invalid Password\n"
     ]
    }
   ],
   "source": [
    "pwd = input('Enter a password: ')\n",
    "if pwd.isalpha() or pwd.isnumeric():\n",
    "    print('Invalid Password')\n",
    "elif pwd.isalnum():\n",
    "    print('Valid Password')\n",
    "else:\n",
    "    print('Invalid Password')"
   ]
  },
  {
   "cell_type": "code",
   "execution_count": 78,
   "id": "d0d90c3d",
   "metadata": {
    "ExecuteTime": {
     "end_time": "2021-06-10T15:31:34.499763Z",
     "start_time": "2021-06-10T15:31:34.493361Z"
    }
   },
   "outputs": [
    {
     "name": "stdout",
     "output_type": "stream",
     "text": [
      "\\\n"
     ]
    }
   ],
   "source": [
    "print('\\\\')"
   ]
  },
  {
   "cell_type": "code",
   "execution_count": 105,
   "id": "37e7fab9",
   "metadata": {
    "ExecuteTime": {
     "end_time": "2021-06-10T15:44:29.245422Z",
     "start_time": "2021-06-10T15:44:29.241299Z"
    }
   },
   "outputs": [],
   "source": [
    "# 'endswith(sub_str, start, stop)', 'startswith(sub_str, start, stop)',\n",
    "\n",
    "my_str = 'This is Python clas'\n",
    "# print(my_str.startswith('T'))\n",
    "# print(my_str.startswith('This'))\n",
    "# print(my_str.startswith('is', 5))\n",
    "# print(my_str.startswith('is', 6))   # Whetehr it Starts with\n",
    "# print(my_str.startswith('s', 3, 10))\n",
    "\n",
    "\n",
    "# print(my_str.endswith('s'))\n",
    "# print(my_str.endswith('class'))\n",
    "# print(my_str.endswith('s', 5, 18))\n",
    "# print(my_str.endswith('c', 6))\n",
    "# print(my_str.endswith('Py', 3, 10))\n",
    "\n"
   ]
  },
  {
   "cell_type": "code",
   "execution_count": 110,
   "id": "ac722eeb",
   "metadata": {
    "ExecuteTime": {
     "end_time": "2021-06-10T15:46:46.075967Z",
     "start_time": "2021-06-10T15:46:46.068123Z"
    }
   },
   "outputs": [
    {
     "name": "stdout",
     "output_type": "stream",
     "text": [
      "9\n",
      "5\n",
      "1\n"
     ]
    }
   ],
   "source": [
    "# 'count', \n",
    "my_str = 'peter piper picked a peck of pickled peppers'\n",
    "print(my_str.count('p'))\n",
    "print(my_str.count('pe'))\n",
    "print(my_str.count('p', 10, 21))\n",
    "\n",
    "\n"
   ]
  },
  {
   "cell_type": "code",
   "execution_count": 127,
   "id": "0d8d2ff8",
   "metadata": {
    "ExecuteTime": {
     "end_time": "2021-06-10T15:54:04.547899Z",
     "start_time": "2021-06-10T15:54:04.543521Z"
    }
   },
   "outputs": [],
   "source": [
    "# find - index of first occurrence of character or group of characters from left side\n",
    "# rfind - index of first occurrence of character or group of characters from right side\n",
    "# If substringis not found then returns -1\n",
    "\n",
    "my_str = 'peter piper picked a peck of pickled peppers'\n",
    "# print(my_str.find('p'))\n",
    "# print(my_str.find('pi'))\n",
    "# print(my_str.rfind('p'))\n",
    "# print(my_str.rfind('pi'))\n",
    "\n",
    "# print(my_str.find('p', 10, 20))\n",
    "# print(my_str.rfind('p', 10, 20))\n",
    "\n",
    "# print(my_str.find('z'))\n",
    "# print(my_str.rfind('z'))\n",
    "\n",
    "\n",
    "# index - index of first occurrence of character or group of characters from left side\n",
    "# rindex - index of first occurrence of character or group of characters from right side\n",
    "# If substringis not found then returns ValueError\n",
    "\n",
    "# print(my_str.index('p'))\n",
    "# print(my_str.index('pi'))\n",
    "# print(my_str.rindex('p'))\n",
    "# print(my_str.rindex('pi'))\n",
    "\n",
    "\n",
    "# print(my_str.index('p', 10, 20))\n",
    "# print(my_str.rindex('p', 10, 20))\n",
    "\n",
    "\n",
    "# print(my_str.index('z'))\n",
    "# print(my_str.rindex('z'))\n",
    "\n",
    "\n",
    "\n"
   ]
  },
  {
   "cell_type": "code",
   "execution_count": null,
   "id": "824bb8b0",
   "metadata": {},
   "outputs": [],
   "source": []
  },
  {
   "cell_type": "code",
   "execution_count": null,
   "id": "a7445ee8",
   "metadata": {},
   "outputs": [],
   "source": []
  },
  {
   "cell_type": "code",
   "execution_count": null,
   "id": "65e5c312",
   "metadata": {},
   "outputs": [],
   "source": []
  },
  {
   "cell_type": "code",
   "execution_count": null,
   "id": "923f7008",
   "metadata": {},
   "outputs": [],
   "source": []
  },
  {
   "cell_type": "code",
   "execution_count": null,
   "id": "6086c1fc",
   "metadata": {},
   "outputs": [],
   "source": []
  },
  {
   "cell_type": "code",
   "execution_count": null,
   "id": "cf644f58",
   "metadata": {},
   "outputs": [],
   "source": []
  },
  {
   "cell_type": "code",
   "execution_count": null,
   "id": "4fd95cd2",
   "metadata": {},
   "outputs": [],
   "source": []
  },
  {
   "cell_type": "code",
   "execution_count": null,
   "id": "f9c380d1",
   "metadata": {},
   "outputs": [],
   "source": []
  },
  {
   "cell_type": "code",
   "execution_count": null,
   "id": "315a087a",
   "metadata": {},
   "outputs": [],
   "source": []
  },
  {
   "cell_type": "code",
   "execution_count": null,
   "id": "25fd7668",
   "metadata": {},
   "outputs": [],
   "source": []
  },
  {
   "cell_type": "code",
   "execution_count": null,
   "id": "65f07f5c",
   "metadata": {},
   "outputs": [],
   "source": []
  },
  {
   "cell_type": "code",
   "execution_count": null,
   "id": "92684c11",
   "metadata": {},
   "outputs": [],
   "source": []
  },
  {
   "cell_type": "code",
   "execution_count": null,
   "id": "e24a5374",
   "metadata": {},
   "outputs": [],
   "source": []
  },
  {
   "cell_type": "code",
   "execution_count": null,
   "id": "f76b8adb",
   "metadata": {},
   "outputs": [],
   "source": []
  },
  {
   "cell_type": "code",
   "execution_count": null,
   "id": "8700fd87",
   "metadata": {},
   "outputs": [],
   "source": []
  },
  {
   "cell_type": "code",
   "execution_count": null,
   "id": "f0f42bba",
   "metadata": {},
   "outputs": [],
   "source": []
  },
  {
   "cell_type": "code",
   "execution_count": null,
   "id": "8972a845",
   "metadata": {},
   "outputs": [],
   "source": []
  },
  {
   "cell_type": "code",
   "execution_count": null,
   "id": "4745e910",
   "metadata": {},
   "outputs": [],
   "source": []
  },
  {
   "cell_type": "code",
   "execution_count": null,
   "id": "14151eaa",
   "metadata": {},
   "outputs": [],
   "source": []
  },
  {
   "cell_type": "code",
   "execution_count": null,
   "id": "37108ef3",
   "metadata": {},
   "outputs": [],
   "source": []
  },
  {
   "cell_type": "code",
   "execution_count": null,
   "id": "e1d570a5",
   "metadata": {},
   "outputs": [],
   "source": []
  },
  {
   "cell_type": "code",
   "execution_count": null,
   "id": "c2931bbf",
   "metadata": {},
   "outputs": [],
   "source": []
  },
  {
   "cell_type": "code",
   "execution_count": null,
   "id": "cf335582",
   "metadata": {},
   "outputs": [],
   "source": []
  },
  {
   "cell_type": "code",
   "execution_count": null,
   "id": "7e483b12",
   "metadata": {},
   "outputs": [],
   "source": []
  },
  {
   "cell_type": "code",
   "execution_count": null,
   "id": "187eff49",
   "metadata": {},
   "outputs": [],
   "source": []
  },
  {
   "cell_type": "code",
   "execution_count": null,
   "id": "27a851b7",
   "metadata": {},
   "outputs": [],
   "source": []
  },
  {
   "cell_type": "code",
   "execution_count": null,
   "id": "8efb6b9e",
   "metadata": {},
   "outputs": [],
   "source": []
  },
  {
   "cell_type": "code",
   "execution_count": null,
   "id": "977d4672",
   "metadata": {},
   "outputs": [],
   "source": []
  },
  {
   "cell_type": "code",
   "execution_count": null,
   "id": "62675639",
   "metadata": {},
   "outputs": [],
   "source": []
  },
  {
   "cell_type": "code",
   "execution_count": null,
   "id": "d805c78a",
   "metadata": {},
   "outputs": [],
   "source": []
  },
  {
   "cell_type": "code",
   "execution_count": null,
   "id": "8aeef37d",
   "metadata": {},
   "outputs": [],
   "source": []
  },
  {
   "cell_type": "code",
   "execution_count": null,
   "id": "2dc30ce3",
   "metadata": {},
   "outputs": [],
   "source": []
  },
  {
   "cell_type": "code",
   "execution_count": null,
   "id": "06d49f1f",
   "metadata": {},
   "outputs": [],
   "source": []
  },
  {
   "cell_type": "code",
   "execution_count": null,
   "id": "988dcf7b",
   "metadata": {},
   "outputs": [],
   "source": []
  },
  {
   "cell_type": "code",
   "execution_count": null,
   "id": "328cfa2a",
   "metadata": {},
   "outputs": [],
   "source": []
  },
  {
   "cell_type": "code",
   "execution_count": null,
   "id": "60d6eded",
   "metadata": {},
   "outputs": [],
   "source": []
  },
  {
   "cell_type": "code",
   "execution_count": null,
   "id": "556d2761",
   "metadata": {},
   "outputs": [],
   "source": []
  },
  {
   "cell_type": "code",
   "execution_count": null,
   "id": "21d099ef",
   "metadata": {},
   "outputs": [],
   "source": []
  },
  {
   "cell_type": "code",
   "execution_count": null,
   "id": "fd08aa9a",
   "metadata": {},
   "outputs": [],
   "source": []
  },
  {
   "cell_type": "code",
   "execution_count": null,
   "id": "840bfb8a",
   "metadata": {},
   "outputs": [],
   "source": []
  },
  {
   "cell_type": "code",
   "execution_count": null,
   "id": "7003a1d8",
   "metadata": {},
   "outputs": [],
   "source": []
  },
  {
   "cell_type": "code",
   "execution_count": null,
   "id": "d6d6b37d",
   "metadata": {},
   "outputs": [],
   "source": []
  },
  {
   "cell_type": "code",
   "execution_count": null,
   "id": "d07c799c",
   "metadata": {},
   "outputs": [],
   "source": []
  },
  {
   "cell_type": "code",
   "execution_count": null,
   "id": "789e84c7",
   "metadata": {},
   "outputs": [],
   "source": []
  },
  {
   "cell_type": "code",
   "execution_count": null,
   "id": "562260e4",
   "metadata": {},
   "outputs": [],
   "source": []
  },
  {
   "cell_type": "code",
   "execution_count": null,
   "id": "054d0857",
   "metadata": {},
   "outputs": [],
   "source": []
  },
  {
   "cell_type": "code",
   "execution_count": null,
   "id": "21c145d9",
   "metadata": {},
   "outputs": [],
   "source": []
  },
  {
   "cell_type": "code",
   "execution_count": null,
   "id": "e79cce45",
   "metadata": {},
   "outputs": [],
   "source": []
  }
 ],
 "metadata": {
  "kernelspec": {
   "display_name": "Python 3",
   "language": "python",
   "name": "python3"
  },
  "language_info": {
   "codemirror_mode": {
    "name": "ipython",
    "version": 3
   },
   "file_extension": ".py",
   "mimetype": "text/x-python",
   "name": "python",
   "nbconvert_exporter": "python",
   "pygments_lexer": "ipython3",
   "version": "3.8.2"
  }
 },
 "nbformat": 4,
 "nbformat_minor": 5
}
