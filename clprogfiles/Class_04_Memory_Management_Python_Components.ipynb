{
 "cells": [
  {
   "cell_type": "code",
   "execution_count": 1,
   "id": "8657f0e7",
   "metadata": {
    "ExecuteTime": {
     "end_time": "2021-06-02T14:42:18.316825Z",
     "start_time": "2021-06-02T14:42:18.278482Z"
    }
   },
   "outputs": [
    {
     "ename": "SyntaxError",
     "evalue": "invalid syntax (<ipython-input-1-4f6bdc30cdb8>, line 1)",
     "output_type": "error",
     "traceback": [
      "\u001b[0;36m  File \u001b[0;32m\"<ipython-input-1-4f6bdc30cdb8>\"\u001b[0;36m, line \u001b[0;32m1\u001b[0m\n\u001b[0;31m    Memory Management - Automatic in Python\u001b[0m\n\u001b[0m           ^\u001b[0m\n\u001b[0;31mSyntaxError\u001b[0m\u001b[0;31m:\u001b[0m invalid syntax\n"
     ]
    }
   ],
   "source": [
    "# Memory Management - Automatic in Python\n",
    "    1. Memory Allocation - Raw Memory Allocator, Object Specific Allocator, PVM(Python Virtual Machine)\n",
    "    2. Memory Deallocation - gc"
   ]
  },
  {
   "cell_type": "code",
   "execution_count": 19,
   "id": "6e16aedf",
   "metadata": {
    "ExecuteTime": {
     "end_time": "2021-06-02T15:51:24.610753Z",
     "start_time": "2021-06-02T15:51:24.595932Z"
    }
   },
   "outputs": [
    {
     "name": "stdout",
     "output_type": "stream",
     "text": [
      "11 22 10 20\n",
      "10 20\n"
     ]
    }
   ],
   "source": [
    "a = 10\n",
    "b = 20\n",
    "c = a+b\n",
    "def f1():\n",
    "    x = 11\n",
    "    y = 22\n",
    "    print(x,y,a,b)\n",
    "f1()\n",
    "print(a,b)"
   ]
  },
  {
   "cell_type": "code",
   "execution_count": null,
   "id": "a7f8292d",
   "metadata": {},
   "outputs": [],
   "source": [
    "# Python Programming Components\n",
    "# 1. Literal - Any value which is ised in python program \n",
    "# int - 10, -10, 0\n",
    "# float - 10.20, -10.20\n",
    "# complex - 10+20j, 10-20j\n",
    "# Boolean - True, False\n",
    "# String - '...', \"...\", '''...''', \"\"\"...\"\"\"\n",
    "    "
   ]
  },
  {
   "cell_type": "code",
   "execution_count": null,
   "id": "38bc7820",
   "metadata": {},
   "outputs": [],
   "source": [
    "# Identifier - Any name which we use in python program\n",
    "# variable, constant, function, class, object etc\n",
    "# Rules:-\n",
    "    1. Allowed characters - A-Z, a-z 0-9, _\n",
    "    2. Not allowed characters - Special characters\n",
    "    3. Identifiers are case sensitive. num, Num\n",
    "    4. Identifiers can not start with a number -> num1, n1um, {1num(Wrong)}\n",
    "    \n",
    "# Recommendation\n",
    "    1. Constant name should use only capital case alphabets.\n",
    "    2. Class name should use pascalCaseNotation.\n",
    "    3. REeserved words housl not be used as an identifier.\n",
    "    4. Avoid writing any name which starts and ends with __.\n",
    "\n"
   ]
  },
  {
   "cell_type": "code",
   "execution_count": 2,
   "id": "297c5f0f",
   "metadata": {
    "ExecuteTime": {
     "end_time": "2021-06-02T15:43:57.455943Z",
     "start_time": "2021-06-02T15:43:57.444430Z"
    }
   },
   "outputs": [
    {
     "name": "stdout",
     "output_type": "stream",
     "text": [
      "['False', 'None', 'True', 'and', 'as', 'assert', 'async', 'await', 'break', 'class', 'continue', 'def', 'del', 'elif', 'else', 'except', 'finally', 'for', 'from', 'global', 'if', 'import', 'in', 'is', 'lambda', 'nonlocal', 'not', 'or', 'pass', 'raise', 'return', 'try', 'while', 'with', 'yield']\n"
     ]
    }
   ],
   "source": [
    "# Reserved words\n",
    "# import keyword\n",
    "# print(keyword.kwlist)\n",
    "\n",
    "# ['False', 'None', 'True', 'and', 'as', 'assert', 'async', 'await', 'break', 'class', 'continue', \n",
    "#  'def', 'del', 'elif', 'else', 'except', 'finally', 'for', 'from', 'global', 'if', 'import', 'in', \n",
    "#  'is', 'lambda', 'nonlocal', 'not', 'or', 'pass', 'raise', 'return', 'try', 'while', 'with', 'yield']"
   ]
  },
  {
   "cell_type": "code",
   "execution_count": 5,
   "id": "c7073d05",
   "metadata": {
    "ExecuteTime": {
     "end_time": "2021-06-02T15:45:05.890134Z",
     "start_time": "2021-06-02T15:45:05.883946Z"
    }
   },
   "outputs": [],
   "source": [
    "# for = 100\n",
    "# pass = 100"
   ]
  },
  {
   "cell_type": "code",
   "execution_count": 8,
   "id": "f1f2b26d",
   "metadata": {
    "ExecuteTime": {
     "end_time": "2021-06-02T15:46:00.126138Z",
     "start_time": "2021-06-02T15:46:00.117339Z"
    }
   },
   "outputs": [
    {
     "name": "stdout",
     "output_type": "stream",
     "text": [
      "['__add__', '__class__', '__contains__', '__delattr__', '__delitem__', '__dir__', '__doc__', '__eq__', '__format__', '__ge__', '__getattribute__', '__getitem__', '__gt__', '__hash__', '__iadd__', '__imul__', '__init__', '__init_subclass__', '__iter__', '__le__', '__len__', '__lt__', '__mul__', '__ne__', '__new__', '__reduce__', '__reduce_ex__', '__repr__', '__reversed__', '__rmul__', '__setattr__', '__setitem__', '__sizeof__', '__str__', '__subclasshook__', 'append', 'clear', 'copy', 'count', 'extend', 'index', 'insert', 'pop', 'remove', 'reverse', 'sort']\n"
     ]
    }
   ],
   "source": [
    "# __abc__ = 100\n",
    "# print(dir(int))\n",
    "# print(dir(str))\n",
    "# print(dir(list))\n",
    "\n",
    "# __xyz__\n"
   ]
  },
  {
   "cell_type": "code",
   "execution_count": 11,
   "id": "fdccf88e",
   "metadata": {
    "ExecuteTime": {
     "end_time": "2021-06-02T15:48:11.175653Z",
     "start_time": "2021-06-02T15:48:11.170337Z"
    }
   },
   "outputs": [],
   "source": [
    "# PI = 3.14\n",
    "# help(int)\n",
    "\n",
    "# class myFirstClass:\n",
    "#     pass\n"
   ]
  },
  {
   "cell_type": "code",
   "execution_count": 32,
   "id": "2c3ef5c4",
   "metadata": {
    "ExecuteTime": {
     "end_time": "2021-06-02T15:54:31.779841Z",
     "start_time": "2021-06-02T15:54:31.773560Z"
    }
   },
   "outputs": [],
   "source": [
    "# Expressions and Statments\n",
    "# Expression - group of operators, operands, values, variable etc which returns some result after evaluation\n",
    "# You can use the print statement to get the result of an expression\n",
    "# print(10+20)\n",
    "# print(10)\n",
    "# print('Python')\n",
    "# print(f1())\n",
    "\n",
    "\n",
    "# Statement - group of operators, operands, values, variable etc which does not return any result after evaluation\n",
    "# print(a = 10)\n",
    "# print(for i in range(5):pass)\n",
    "# print(if 10<20:pass)\n",
    "# print(def f1():pass)\n",
    "\n",
    "# Blocks :- Collection of statements and expression\n",
    "# Indentations are used to create the block\n",
    "def f1():\n",
    "    x = 11\n",
    "    y = 22\n",
    "    print(x,y,a,b)\n",
    "\n",
    "\n",
    "\n"
   ]
  },
  {
   "cell_type": "code",
   "execution_count": 33,
   "id": "10ce1ff6",
   "metadata": {
    "ExecuteTime": {
     "end_time": "2021-06-02T15:56:28.276013Z",
     "start_time": "2021-06-02T15:56:28.259872Z"
    }
   },
   "outputs": [
    {
     "name": "stdout",
     "output_type": "stream",
     "text": [
      "10 20\n"
     ]
    }
   ],
   "source": [
    "# Comments\n",
    "# 1. To write the properly documented code\n",
    "# 2. To escape the unneccessary code in your soirce file.\n",
    "\n",
    "# a = 10\n",
    "# b = 20\n",
    "# c = a+b\n",
    "'''# def f1():\n",
    "#     x = 11\n",
    "#     y = 22\n",
    "#     print(x,y,a,b)\n",
    "# f1()'''\n",
    "print(a,b)\n"
   ]
  },
  {
   "cell_type": "code",
   "execution_count": null,
   "id": "a797ca0d",
   "metadata": {},
   "outputs": [],
   "source": [
    "int, operators"
   ]
  },
  {
   "cell_type": "code",
   "execution_count": null,
   "id": "1528af24",
   "metadata": {},
   "outputs": [],
   "source": [
    "Git - Git Hub\n",
    "https://www.evernote.com/l/AaKxsf4YTbZIyJqjo6Q8Xx5x-feX3tCNdgA"
   ]
  },
  {
   "cell_type": "code",
   "execution_count": null,
   "id": "5395e608",
   "metadata": {},
   "outputs": [],
   "source": []
  },
  {
   "cell_type": "code",
   "execution_count": null,
   "id": "28e18b64",
   "metadata": {},
   "outputs": [],
   "source": []
  },
  {
   "cell_type": "code",
   "execution_count": null,
   "id": "aa78cf2a",
   "metadata": {},
   "outputs": [],
   "source": []
  },
  {
   "cell_type": "code",
   "execution_count": null,
   "id": "13c7dcfd",
   "metadata": {},
   "outputs": [],
   "source": []
  },
  {
   "cell_type": "code",
   "execution_count": null,
   "id": "fcb54498",
   "metadata": {},
   "outputs": [],
   "source": []
  },
  {
   "cell_type": "code",
   "execution_count": null,
   "id": "f6264a83",
   "metadata": {},
   "outputs": [],
   "source": []
  },
  {
   "cell_type": "code",
   "execution_count": null,
   "id": "d2b4b7ba",
   "metadata": {},
   "outputs": [],
   "source": []
  },
  {
   "cell_type": "code",
   "execution_count": null,
   "id": "3eb6f3bd",
   "metadata": {},
   "outputs": [],
   "source": []
  },
  {
   "cell_type": "code",
   "execution_count": null,
   "id": "54a6c26c",
   "metadata": {},
   "outputs": [],
   "source": []
  },
  {
   "cell_type": "code",
   "execution_count": null,
   "id": "c65cace2",
   "metadata": {},
   "outputs": [],
   "source": []
  },
  {
   "cell_type": "code",
   "execution_count": null,
   "id": "7df10a68",
   "metadata": {},
   "outputs": [],
   "source": []
  },
  {
   "cell_type": "code",
   "execution_count": null,
   "id": "c6af9917",
   "metadata": {},
   "outputs": [],
   "source": []
  },
  {
   "cell_type": "code",
   "execution_count": null,
   "id": "6c4df81e",
   "metadata": {},
   "outputs": [],
   "source": []
  },
  {
   "cell_type": "code",
   "execution_count": null,
   "id": "741528f7",
   "metadata": {},
   "outputs": [],
   "source": []
  },
  {
   "cell_type": "code",
   "execution_count": null,
   "id": "493f930d",
   "metadata": {},
   "outputs": [],
   "source": []
  },
  {
   "cell_type": "code",
   "execution_count": null,
   "id": "75ec8075",
   "metadata": {},
   "outputs": [],
   "source": []
  },
  {
   "cell_type": "code",
   "execution_count": null,
   "id": "9cd4a443",
   "metadata": {},
   "outputs": [],
   "source": []
  },
  {
   "cell_type": "code",
   "execution_count": null,
   "id": "f29dff2e",
   "metadata": {},
   "outputs": [],
   "source": []
  },
  {
   "cell_type": "code",
   "execution_count": null,
   "id": "5b8cbb26",
   "metadata": {},
   "outputs": [],
   "source": []
  },
  {
   "cell_type": "code",
   "execution_count": null,
   "id": "9a699b08",
   "metadata": {},
   "outputs": [],
   "source": []
  },
  {
   "cell_type": "code",
   "execution_count": null,
   "id": "2aa72801",
   "metadata": {},
   "outputs": [],
   "source": []
  },
  {
   "cell_type": "code",
   "execution_count": null,
   "id": "9217bf95",
   "metadata": {},
   "outputs": [],
   "source": []
  },
  {
   "cell_type": "code",
   "execution_count": null,
   "id": "3f077a59",
   "metadata": {},
   "outputs": [],
   "source": []
  },
  {
   "cell_type": "code",
   "execution_count": null,
   "id": "ffbc6aa6",
   "metadata": {},
   "outputs": [],
   "source": []
  },
  {
   "cell_type": "code",
   "execution_count": null,
   "id": "8039fb0a",
   "metadata": {},
   "outputs": [],
   "source": []
  },
  {
   "cell_type": "code",
   "execution_count": null,
   "id": "e887ace6",
   "metadata": {},
   "outputs": [],
   "source": []
  },
  {
   "cell_type": "code",
   "execution_count": null,
   "id": "b588986b",
   "metadata": {},
   "outputs": [],
   "source": []
  },
  {
   "cell_type": "code",
   "execution_count": null,
   "id": "6e391130",
   "metadata": {},
   "outputs": [],
   "source": []
  },
  {
   "cell_type": "code",
   "execution_count": null,
   "id": "e3377cef",
   "metadata": {},
   "outputs": [],
   "source": []
  },
  {
   "cell_type": "code",
   "execution_count": null,
   "id": "4aaf0214",
   "metadata": {},
   "outputs": [],
   "source": []
  },
  {
   "cell_type": "code",
   "execution_count": null,
   "id": "a4301735",
   "metadata": {},
   "outputs": [],
   "source": []
  },
  {
   "cell_type": "code",
   "execution_count": null,
   "id": "c315559a",
   "metadata": {},
   "outputs": [],
   "source": []
  },
  {
   "cell_type": "code",
   "execution_count": null,
   "id": "d0b12a08",
   "metadata": {},
   "outputs": [],
   "source": []
  },
  {
   "cell_type": "code",
   "execution_count": null,
   "id": "67dcae3c",
   "metadata": {},
   "outputs": [],
   "source": []
  },
  {
   "cell_type": "code",
   "execution_count": null,
   "id": "00bf42c7",
   "metadata": {},
   "outputs": [],
   "source": []
  },
  {
   "cell_type": "code",
   "execution_count": null,
   "id": "686b656d",
   "metadata": {},
   "outputs": [],
   "source": []
  },
  {
   "cell_type": "code",
   "execution_count": null,
   "id": "fbea51c4",
   "metadata": {},
   "outputs": [],
   "source": []
  },
  {
   "cell_type": "code",
   "execution_count": null,
   "id": "5add46bc",
   "metadata": {},
   "outputs": [],
   "source": []
  },
  {
   "cell_type": "code",
   "execution_count": null,
   "id": "523a62bc",
   "metadata": {},
   "outputs": [],
   "source": []
  },
  {
   "cell_type": "code",
   "execution_count": null,
   "id": "4ec38e64",
   "metadata": {},
   "outputs": [],
   "source": []
  },
  {
   "cell_type": "code",
   "execution_count": null,
   "id": "4e16b139",
   "metadata": {},
   "outputs": [],
   "source": []
  },
  {
   "cell_type": "code",
   "execution_count": null,
   "id": "3ee25ac4",
   "metadata": {},
   "outputs": [],
   "source": []
  }
 ],
 "metadata": {
  "kernelspec": {
   "display_name": "Python 3",
   "language": "python",
   "name": "python3"
  },
  "language_info": {
   "codemirror_mode": {
    "name": "ipython",
    "version": 3
   },
   "file_extension": ".py",
   "mimetype": "text/x-python",
   "name": "python",
   "nbconvert_exporter": "python",
   "pygments_lexer": "ipython3",
   "version": "3.8.2"
  }
 },
 "nbformat": 4,
 "nbformat_minor": 5
}
