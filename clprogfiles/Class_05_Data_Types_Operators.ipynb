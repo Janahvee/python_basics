{
 "cells": [
  {
   "cell_type": "code",
   "execution_count": null,
   "id": "5fc62564",
   "metadata": {},
   "outputs": [],
   "source": [
    "# Data Types\n",
    "#     Fundamental - int, float, complex, boolean, string\n",
    "#     Derived - list, tuple, set, frozenset, dictionary, range, bytes, bytearray"
   ]
  },
  {
   "cell_type": "code",
   "execution_count": null,
   "id": "e00dd265",
   "metadata": {},
   "outputs": [],
   "source": [
    "# Fundamental\n",
    "# int - any number without a decimal point\n",
    "# 10, 0, -10\n",
    "\n",
    "# Decimal - 0-9, No prefix required - base - 10\n",
    "# binary - 0 & 1, Prefixed with 0b, bin() - base - 2\n",
    "# Octal - 0-7, Prefixed with 0o, oct() - base - 8\n",
    "# Hexadecimal - 0-9 & a/A-f/F, Prefixed with 0x, hex() - base - 16\n"
   ]
  },
  {
   "cell_type": "code",
   "execution_count": 15,
   "id": "610c2899",
   "metadata": {
    "ExecuteTime": {
     "end_time": "2021-06-07T14:17:49.079869Z",
     "start_time": "2021-06-07T14:17:49.073654Z"
    }
   },
   "outputs": [],
   "source": [
    "# a = 0b10101\n",
    "# print(a)\n",
    "\n",
    "# b = '0b10101'\n",
    "# print(b)\n",
    "\n",
    "# To convert any nuber to binary\n",
    "# print(bin(10))\n",
    "# print(bin(0o7654))\n",
    "# print(bin(0b101010))\n",
    "# print(bin(0xfc98))\n",
    "\n",
    "# oct_num = 0o7654\n",
    "# print(oct_num)\n",
    "\n",
    "# print(oct(4012))\n",
    "\n",
    "# hex_num = 0xfc98\n",
    "# print(hex_num)\n",
    "\n",
    "# print(hex(64664))\n",
    "\n",
    "\n"
   ]
  },
  {
   "cell_type": "code",
   "execution_count": 51,
   "id": "16c211cb",
   "metadata": {
    "ExecuteTime": {
     "end_time": "2021-06-07T14:57:31.091091Z",
     "start_time": "2021-06-07T14:57:31.080662Z"
    }
   },
   "outputs": [],
   "source": [
    "# Input function - input('msg: ')\n",
    "# num1 = int(input('Enter 1st value: '))\n",
    "# num2 = eval(input('Enter 2nd value: '))\n",
    "# print(num1+num2)\n",
    "\n",
    "# Output - print(val1, val2, val3, sep = ' ', end = '\\n')\n",
    "# Using single print statement\n",
    "# print(10,20,30,40)\n",
    "# print(10,20,30,40, sep = ' ')\n",
    "# print(10,20,30,40, sep = ',')\n",
    "# print(10,20,30,40, sep = '::')\n",
    "# print(10,20,30,40, sep = '-->')\n",
    "\n",
    "# Using multiple print statemnet\n",
    "# print(10)\n",
    "# print(20)\n",
    "# print(30)\n",
    "# print(40)\n",
    "\n",
    "# print(10, end = '\\n')\n",
    "# print(20, end = '\\n')\n",
    "# print(30, end = '\\n')\n",
    "# print(40, end = '\\n')\n",
    "\n",
    "# print(10, end = ' ')\n",
    "# print(20, end = ' ')\n",
    "# print(30, end = ' ')\n",
    "# print(40, end = ' ')\n",
    "\n",
    "# print(10, 20, 30, 40, end = ' ')\n",
    "\n",
    "# 10 20 30 40 \n",
    "\n",
    "# Output formatting/String formatting\n",
    "# f_name = input('Enter your first name: ')\n",
    "# l_name = input('Enter your last name: ')\n",
    "# print(f'Your First name is {f_name}, last name is {l_name} and full name is {f_name+l_name}')\n",
    "\n"
   ]
  },
  {
   "cell_type": "code",
   "execution_count": 38,
   "id": "fc6ba0ee",
   "metadata": {
    "ExecuteTime": {
     "end_time": "2021-06-07T14:47:33.296428Z",
     "start_time": "2021-06-07T14:47:33.281248Z"
    }
   },
   "outputs": [
    {
     "data": {
      "text/plain": [
       "['P', 'y', 't', 'h', 'o', 'n']"
      ]
     },
     "execution_count": 38,
     "metadata": {},
     "output_type": "execute_result"
    }
   ],
   "source": [
    "# Syntax of eval - eval('expr')\n",
    "\n",
    "# a = eval('10')\n",
    "# print(type(a))\n",
    "\n",
    "# a = eval('10+20')\n",
    "# print(a, type(a))\n",
    "\n",
    "# def f1():\n",
    "#     print('This is f1 function')\n",
    "    \n",
    "# eval('f1()')\n",
    "\n",
    "# a = eval('[10,20,30,40]')\n",
    "# b = [10,20,30,40]\n",
    "# print(a, type(a))\n",
    "# print(b, type(b))\n",
    "\n",
    "# Taking list input from user\n",
    "# a = int(input('Enter a int value: '))\n",
    "# print(a, type(a))\n",
    "\n",
    "# a = list(input('Enter a list value: '))\n",
    "# print(a, type(a))\n",
    "\n",
    "# [10,20,30,40]\n",
    "\n",
    "# list('Python')"
   ]
  },
  {
   "cell_type": "code",
   "execution_count": 28,
   "id": "5f82ae0d",
   "metadata": {
    "ExecuteTime": {
     "end_time": "2021-06-07T14:24:41.152552Z",
     "start_time": "2021-06-07T14:24:41.141877Z"
    }
   },
   "outputs": [
    {
     "name": "stdout",
     "output_type": "stream",
     "text": [
      "10\n"
     ]
    }
   ],
   "source": [
    "# b = '10'\n",
    "# print(b, type(b))\n",
    "# a = int('10')\n",
    "# print(a, type(a))\n",
    "\n",
    "# c = '10.20'\n",
    "# print(int(c))\n",
    "\n",
    "print(int(10.20))"
   ]
  },
  {
   "cell_type": "code",
   "execution_count": 72,
   "id": "931975da",
   "metadata": {
    "ExecuteTime": {
     "end_time": "2021-06-07T15:09:15.299137Z",
     "start_time": "2021-06-07T15:09:15.294056Z"
    }
   },
   "outputs": [],
   "source": [
    "# Operations\n",
    "#     1. Arithmetic - +, -, *, /(Float Division), //(Floor Division), %(Modulo), **(exponent)\n",
    "\n",
    "# num1 = int(input('Enter first Number: '))\n",
    "# num2 = int(input('Enter 2nd Number: '))\n",
    "# print(f'The sum of {num1} and {num2} is {num1+num2}')\n",
    "# print(f'The diference of {num1} and {num2} is {num1-num2}')\n",
    "# print(f'The Product of {num1} and {num2} is {num1*num2}')\n",
    "# print(f'The float division of {num1} and {num2} is {num1/num2}')\n",
    "# print(f'The Floor division of {num1} and {num2} is {num1//num2}')\n",
    "\n",
    "# Remainder - %\n",
    "# print(f'The remainder of division of {num1} and {num2} is {num1%num2}')\n",
    "# print(num1**num2)\n",
    "\n",
    "\n",
    "# int, float, complex(except modulo operator all operator works)\n",
    "\n",
    "# + -> Sequnece types - Concatenation\n",
    "# Both the operand should be of same type\n",
    "# Sequence type - list, tuple, string,\n",
    "\n",
    "# String concatenation\n",
    "# print('Hello' + ' ' +'Python')\n",
    "# print([10,20,30,40] + [1,2,3,4])\n",
    "# print((10,20,30,40) + (1,2,3,4))\n",
    "\n",
    "# print('Python' + 89)   # TypeError: can only concatenate str (not \"int\") to str\n",
    "# print('Python' + [10,20304])\n",
    "\n",
    "\n",
    "\n",
    "# * -> Sequnec type - Repetition\n",
    "# One of the operand should be seq and other should be int\n",
    "\n",
    "# print('Python' * 2)\n",
    "# print([10,20,30] * 3)\n",
    "# print((1,2,3)*6)\n",
    "\n",
    "# print('Pyton' * 3.0)   # TypeError: can't multiply sequence by non-int of type 'float'\n",
    "\n",
    "\n"
   ]
  },
  {
   "cell_type": "code",
   "execution_count": 89,
   "id": "1db2d184",
   "metadata": {
    "ExecuteTime": {
     "end_time": "2021-06-07T15:17:18.513961Z",
     "start_time": "2021-06-07T15:17:18.504554Z"
    }
   },
   "outputs": [
    {
     "name": "stdout",
     "output_type": "stream",
     "text": [
      "4\n"
     ]
    }
   ],
   "source": [
    "# Float division - / - Float value after division\n",
    "# print(10/3)\n",
    "\n",
    "# Floor Division - // - Floor value of float division\n",
    "# It also return quotient\n",
    "# Ceil Value - Highest Nearest whole number of any number\n",
    "# Floor Value - Lowest Nearest whole number of any number\n",
    "# Ceil = 4\n",
    "# num = 3.01\n",
    "# floor = 3\n",
    "\n",
    "# print(10//3)\n",
    "\n",
    "import math\n",
    "print(math.ceil(3.01))\n",
    "\n"
   ]
  },
  {
   "cell_type": "code",
   "execution_count": 88,
   "id": "a181dbce",
   "metadata": {
    "ExecuteTime": {
     "end_time": "2021-06-07T15:16:20.164543Z",
     "start_time": "2021-06-07T15:16:20.158160Z"
    }
   },
   "outputs": [
    {
     "name": "stdout",
     "output_type": "stream",
     "text": [
      "True\n"
     ]
    }
   ],
   "source": [
    "# Comparison Operator - <, <=, >, >=\n",
    "# Returns Boolean Value - True and False\n",
    "# Does not work between instances of different type except int and float\n",
    "\n",
    "# print(10<20)\n",
    "# print(10<20.30)\n",
    "\n",
    "# print(10<10+20j)   # TypeError: '<' not supported between instances of 'int' and 'complex'\n",
    "# print('Python'< 876543)  # TypeError: '<' not supported between instances of 'str' and 'int'\n",
    "\n",
    "\n",
    "# ord('letter/char') - Ascii code point\n",
    "# print(ord('A'))\n",
    "# print(ord('0'))\n",
    "# print(ord('='))\n",
    "\n",
    "\n",
    "# chr(ascii number) - ascii character\n",
    "# print(chr(65))\n",
    "# print(chr(61))\n",
    "# print(chr(48))\n",
    "\n",
    "\n",
    "# print('A' <= 65)   # TypeError: '<=' not supported between instances of 'str' and 'int'\n",
    "\n",
    "# print('Python'<'class')\n",
    "\n",
    "\n"
   ]
  },
  {
   "cell_type": "code",
   "execution_count": 95,
   "id": "7a541172",
   "metadata": {
    "ExecuteTime": {
     "end_time": "2021-06-07T15:21:21.855029Z",
     "start_time": "2021-06-07T15:21:21.846400Z"
    }
   },
   "outputs": [
    {
     "name": "stdout",
     "output_type": "stream",
     "text": [
      "True\n"
     ]
    }
   ],
   "source": [
    "# Equality Operator - ==, !=\n",
    "# Used for comparing the values\n",
    "# They also return boolean values\n",
    "# It compares the content\n",
    "\n",
    "# print(10 == 10)\n",
    "# print(10 == '10')\n",
    "\n",
    "# print(ord('A') == 65)\n",
    "\n",
    "\n",
    "\n"
   ]
  },
  {
   "cell_type": "code",
   "execution_count": 111,
   "id": "9eaa2d51",
   "metadata": {
    "ExecuteTime": {
     "end_time": "2021-06-07T15:46:21.347852Z",
     "start_time": "2021-06-07T15:46:21.289602Z"
    }
   },
   "outputs": [
    {
     "data": {
      "text/plain": [
       "101"
      ]
     },
     "execution_count": 111,
     "metadata": {},
     "output_type": "execute_result"
    }
   ],
   "source": [
    "# Logical Operator - and, or not\n",
    "# They work on logic\n",
    "# Logic always evaluated either as True or False\n",
    "# \n",
    "\n",
    "# and Truth Table - False\n",
    "# True and True = True\n",
    "# True and False = False\n",
    "# False and True = False\n",
    "# False and False = False \n",
    "\n",
    "\n",
    "# or Truth Table - True\n",
    "# True or True = True\n",
    "# True or False = True\n",
    "# False or True = True\n",
    "# False or False = False\n",
    "\n",
    "# not Truth Table\n",
    "# not True = False\n",
    "# not False = True\n",
    "\n",
    "\n",
    "# year = int(input('Enter an year: '))\n",
    "# if ((year%400 == 0) or ((year%4 == 0) and (year%100 != 0))):\n",
    "#     print('Year is a leap Year')\n",
    "# else:\n",
    "#     print('Year is not a leap Year')\n",
    "\n",
    "# year = 2000 => True or (True and False) => True or False => True => 'Year is a leap Year'\n",
    "# year = 2020 => False or (True and True) => False or True => True => 'Year is a leap Year'\n",
    "# year = 1800 => False or (True and False) => False or False => False => 'Year is not a leap Year'\n",
    "\n",
    "# In case if you use values in place of logic with \n",
    "# and logical operator then it returns False value as output and if both the value are True then it returns 2nd value as output\n",
    "# or logical operator then it returns True value as output and if both the value are False then it returns 2nd value as output\n",
    "\n",
    "\n",
    "# and - False\n",
    "# print(10 and 20)\n",
    "# print(10 and 0)\n",
    "# print(0 and 10)\n",
    "# print(0.0 and 0)\n",
    "\n",
    "\n",
    "# or - True\n",
    "# print(10 or 20)\n",
    "# print(10 or 0)\n",
    "# print(0 or 10)\n",
    "# print(0.0 or 0)\n"
   ]
  },
  {
   "cell_type": "code",
   "execution_count": 103,
   "id": "dcaa30af",
   "metadata": {
    "ExecuteTime": {
     "end_time": "2021-06-07T15:40:00.970027Z",
     "start_time": "2021-06-07T15:40:00.965307Z"
    }
   },
   "outputs": [
    {
     "name": "stdout",
     "output_type": "stream",
     "text": [
      "False\n",
      "True\n"
     ]
    }
   ],
   "source": [
    "# print(bool(10))\n",
    "# print(bool(0))\n",
    "# print(bool(1))\n",
    "# print(bool(''))\n",
    "# print(bool(' '))\n",
    "# print(bool([]))\n",
    "# print(bool([None]))"
   ]
  },
  {
   "cell_type": "code",
   "execution_count": null,
   "id": "3ec50115",
   "metadata": {},
   "outputs": [],
   "source": [
    "# Assignment Operator - =\n",
    "# a = 10\n",
    "# a = 'Python'\n",
    "\n"
   ]
  },
  {
   "cell_type": "code",
   "execution_count": 125,
   "id": "79440a12",
   "metadata": {
    "ExecuteTime": {
     "end_time": "2021-06-07T15:56:05.111414Z",
     "start_time": "2021-06-07T15:56:05.102557Z"
    }
   },
   "outputs": [
    {
     "name": "stdout",
     "output_type": "stream",
     "text": [
      "2\n",
      "2\n"
     ]
    }
   ],
   "source": [
    "# Bitwise Operator - &, |, ^, ~, <<, >>\n",
    "# They work on bits - 0&1\n",
    "# Only iteger value can be represented in binary format so these operators work only with integers\n",
    "\n",
    "# print(10 & 20)\n",
    "\n",
    "# 10 => 01010\n",
    "# 20 => 10100\n",
    "# ===========\n",
    "# &  => 00000\n",
    "\n",
    "# print(0b00000)\n",
    "\n",
    "# print(10 | 20)\n",
    "\n",
    "# # 10 => 01010\n",
    "# # 20 => 10100\n",
    "# # ===========\n",
    "# # |  => 11110\n",
    "\n",
    "# print(0b11110)\n",
    "\n",
    "# print(10 ^ 20)\n",
    "\n",
    "# # 10 => 01010\n",
    "# # 20 => 10100\n",
    "# # ===========\n",
    "# # |  => 11110\n",
    "\n",
    "\n",
    "# Bitwise negation \n",
    "# ~num = -(num+1)\n",
    "# print(~8)\n",
    "# print(~10)\n",
    "\n",
    "# print(~-9)\n",
    "\n",
    "\n",
    "# Bitwise left shift -> num << no of bits\n",
    "# num << no of bits == num * (2 ** no of bits)\n",
    "\n",
    "# print(65 << 5)\n",
    "# print(65 * (2**5))\n",
    "\n",
    "# Bitwise right shift -> num >> no of bits\n",
    "# num ?? no of bits == num // (2 ** no of bits)\n",
    "\n",
    "# print(65 >> 5)\n",
    "# print(65 // (2**5))\n"
   ]
  },
  {
   "cell_type": "code",
   "execution_count": 127,
   "id": "03af6d6a",
   "metadata": {
    "ExecuteTime": {
     "end_time": "2021-06-07T15:58:40.539473Z",
     "start_time": "2021-06-07T15:58:40.526150Z"
    }
   },
   "outputs": [],
   "source": [
    "# Compound Assignment Operator - +=, -=, *=, /=, //=, %=, **=, &=, |=, ^=, ~=, <<=, >>=\n",
    "\n",
    "# num = 23\n",
    "# num += 20                               # num = num + 20\n",
    "# print(num)\n",
    "\n",
    "\n",
    "\n",
    "\n",
    "\n",
    "\n"
   ]
  },
  {
   "cell_type": "code",
   "execution_count": null,
   "id": "84d519ed",
   "metadata": {},
   "outputs": [],
   "source": []
  },
  {
   "cell_type": "code",
   "execution_count": null,
   "id": "aff24cff",
   "metadata": {},
   "outputs": [],
   "source": []
  },
  {
   "cell_type": "code",
   "execution_count": null,
   "id": "4a47520b",
   "metadata": {},
   "outputs": [],
   "source": []
  },
  {
   "cell_type": "code",
   "execution_count": null,
   "id": "fe72825e",
   "metadata": {},
   "outputs": [],
   "source": []
  },
  {
   "cell_type": "code",
   "execution_count": null,
   "id": "a257dbbe",
   "metadata": {},
   "outputs": [],
   "source": []
  },
  {
   "cell_type": "code",
   "execution_count": null,
   "id": "0bc3c21a",
   "metadata": {},
   "outputs": [],
   "source": []
  },
  {
   "cell_type": "code",
   "execution_count": null,
   "id": "b4f4f26e",
   "metadata": {},
   "outputs": [],
   "source": []
  },
  {
   "cell_type": "code",
   "execution_count": null,
   "id": "eb4bc2f4",
   "metadata": {},
   "outputs": [],
   "source": []
  },
  {
   "cell_type": "code",
   "execution_count": null,
   "id": "69f458b4",
   "metadata": {},
   "outputs": [],
   "source": []
  },
  {
   "cell_type": "code",
   "execution_count": null,
   "id": "0f9e26b8",
   "metadata": {},
   "outputs": [],
   "source": []
  },
  {
   "cell_type": "code",
   "execution_count": null,
   "id": "ca4acf2f",
   "metadata": {},
   "outputs": [],
   "source": []
  },
  {
   "cell_type": "code",
   "execution_count": null,
   "id": "e4cda794",
   "metadata": {},
   "outputs": [],
   "source": []
  },
  {
   "cell_type": "code",
   "execution_count": null,
   "id": "7513f440",
   "metadata": {},
   "outputs": [],
   "source": []
  },
  {
   "cell_type": "code",
   "execution_count": null,
   "id": "6473063a",
   "metadata": {},
   "outputs": [],
   "source": []
  },
  {
   "cell_type": "code",
   "execution_count": null,
   "id": "cd8e62a8",
   "metadata": {},
   "outputs": [],
   "source": []
  },
  {
   "cell_type": "code",
   "execution_count": null,
   "id": "f91248c3",
   "metadata": {},
   "outputs": [],
   "source": []
  },
  {
   "cell_type": "code",
   "execution_count": null,
   "id": "560151af",
   "metadata": {},
   "outputs": [],
   "source": []
  },
  {
   "cell_type": "code",
   "execution_count": null,
   "id": "390144aa",
   "metadata": {},
   "outputs": [],
   "source": []
  },
  {
   "cell_type": "code",
   "execution_count": null,
   "id": "26d86c27",
   "metadata": {},
   "outputs": [],
   "source": []
  },
  {
   "cell_type": "code",
   "execution_count": null,
   "id": "1d2cada9",
   "metadata": {},
   "outputs": [],
   "source": []
  },
  {
   "cell_type": "code",
   "execution_count": null,
   "id": "a5b06649",
   "metadata": {},
   "outputs": [],
   "source": []
  },
  {
   "cell_type": "code",
   "execution_count": null,
   "id": "98c74a2b",
   "metadata": {},
   "outputs": [],
   "source": []
  },
  {
   "cell_type": "code",
   "execution_count": null,
   "id": "687077de",
   "metadata": {},
   "outputs": [],
   "source": []
  },
  {
   "cell_type": "code",
   "execution_count": null,
   "id": "5260ee66",
   "metadata": {},
   "outputs": [],
   "source": []
  },
  {
   "cell_type": "code",
   "execution_count": null,
   "id": "f60a79c2",
   "metadata": {},
   "outputs": [],
   "source": []
  },
  {
   "cell_type": "code",
   "execution_count": null,
   "id": "51a6ae39",
   "metadata": {},
   "outputs": [],
   "source": []
  },
  {
   "cell_type": "code",
   "execution_count": null,
   "id": "217a5dfb",
   "metadata": {},
   "outputs": [],
   "source": []
  },
  {
   "cell_type": "code",
   "execution_count": null,
   "id": "72cc26e1",
   "metadata": {},
   "outputs": [],
   "source": []
  },
  {
   "cell_type": "code",
   "execution_count": null,
   "id": "135694c2",
   "metadata": {},
   "outputs": [],
   "source": []
  },
  {
   "cell_type": "code",
   "execution_count": null,
   "id": "cdc63134",
   "metadata": {},
   "outputs": [],
   "source": []
  },
  {
   "cell_type": "code",
   "execution_count": null,
   "id": "3b20a159",
   "metadata": {},
   "outputs": [],
   "source": []
  },
  {
   "cell_type": "code",
   "execution_count": null,
   "id": "2223696d",
   "metadata": {},
   "outputs": [],
   "source": []
  },
  {
   "cell_type": "code",
   "execution_count": null,
   "id": "1631c9d6",
   "metadata": {},
   "outputs": [],
   "source": []
  },
  {
   "cell_type": "code",
   "execution_count": null,
   "id": "74002402",
   "metadata": {},
   "outputs": [],
   "source": []
  },
  {
   "cell_type": "code",
   "execution_count": null,
   "id": "c5d36038",
   "metadata": {},
   "outputs": [],
   "source": []
  },
  {
   "cell_type": "code",
   "execution_count": null,
   "id": "bf95d59f",
   "metadata": {},
   "outputs": [],
   "source": []
  },
  {
   "cell_type": "code",
   "execution_count": null,
   "id": "d881b83b",
   "metadata": {},
   "outputs": [],
   "source": []
  },
  {
   "cell_type": "code",
   "execution_count": null,
   "id": "ac4f482e",
   "metadata": {},
   "outputs": [],
   "source": []
  },
  {
   "cell_type": "code",
   "execution_count": null,
   "id": "d74bea8b",
   "metadata": {},
   "outputs": [],
   "source": []
  },
  {
   "cell_type": "code",
   "execution_count": null,
   "id": "0419b7f2",
   "metadata": {},
   "outputs": [],
   "source": []
  },
  {
   "cell_type": "code",
   "execution_count": null,
   "id": "d49d3a37",
   "metadata": {},
   "outputs": [],
   "source": []
  },
  {
   "cell_type": "code",
   "execution_count": null,
   "id": "f53fc3f0",
   "metadata": {},
   "outputs": [],
   "source": []
  },
  {
   "cell_type": "code",
   "execution_count": null,
   "id": "8867a7de",
   "metadata": {},
   "outputs": [],
   "source": []
  }
 ],
 "metadata": {
  "kernelspec": {
   "display_name": "Python 3",
   "language": "python",
   "name": "python3"
  },
  "language_info": {
   "codemirror_mode": {
    "name": "ipython",
    "version": 3
   },
   "file_extension": ".py",
   "mimetype": "text/x-python",
   "name": "python",
   "nbconvert_exporter": "python",
   "pygments_lexer": "ipython3",
   "version": "3.8.2"
  }
 },
 "nbformat": 4,
 "nbformat_minor": 5
}
