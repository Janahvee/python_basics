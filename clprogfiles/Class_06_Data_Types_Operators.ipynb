{
 "cells": [
  {
   "cell_type": "code",
   "execution_count": 13,
   "id": "9549dfe5",
   "metadata": {
    "ExecuteTime": {
     "end_time": "2021-06-08T14:16:25.712302Z",
     "start_time": "2021-06-08T14:16:25.704850Z"
    }
   },
   "outputs": [
    {
     "name": "stdout",
     "output_type": "stream",
     "text": [
      "True\n"
     ]
    }
   ],
   "source": [
    "# Identitiy operator - is, is not\n",
    "# This also return boolean value\n",
    "# It checks for memory address\n",
    "\n",
    "# a = 10\n",
    "# b = 10\n",
    "# print(a is b)\n",
    "# print(id(a))\n",
    "# print(id(b))\n",
    "\n",
    "# a = 'Python'\n",
    "# b = 'Python'\n",
    "# print(a is b)\n",
    "# print(id(a))\n",
    "# print(id(b))\n",
    "\n",
    "# a = 1000\n",
    "# b = 1000\n",
    "# print(a is b)\n",
    "# print(id(a))\n",
    "# print(id(b))\n",
    "\n",
    "# Object reusability in Python\n",
    "# int - (-5 to 256)  Int caching \n",
    "# string - (A-Z, a-z, 0-9, _) - String Internng\n",
    "# (True False None)\n",
    "\n",
    "# a = 'Python class'\n",
    "# b = 'Python class'\n",
    "# print(a is b)\n",
    "\n",
    "# a = 'Python$'\n",
    "# b = 'Python$'\n",
    "# print(a is b)\n",
    "# print(id(a))\n",
    "# print(id(b))\n",
    "\n",
    "a = True\n",
    "b = True\n",
    "print(a is b)\n",
    "\n"
   ]
  },
  {
   "cell_type": "code",
   "execution_count": 15,
   "id": "817de371",
   "metadata": {
    "ExecuteTime": {
     "end_time": "2021-06-08T14:18:16.230065Z",
     "start_time": "2021-06-08T14:18:16.226826Z"
    }
   },
   "outputs": [],
   "source": [
    "# import keyword\n",
    "# print(keyword.kwlist)"
   ]
  },
  {
   "cell_type": "code",
   "execution_count": 2,
   "id": "35bd71e3",
   "metadata": {
    "ExecuteTime": {
     "end_time": "2021-06-08T14:28:04.020310Z",
     "start_time": "2021-06-08T14:28:04.011094Z"
    }
   },
   "outputs": [
    {
     "name": "stdout",
     "output_type": "stream",
     "text": [
      "['__abs__', '__add__', '__and__', '__bool__', '__ceil__', '__class__', '__delattr__', '__dir__', '__divmod__', '__doc__', '__eq__', '__float__', '__floor__', '__floordiv__', '__format__', '__ge__', '__getattribute__', '__getnewargs__', '__gt__', '__hash__', '__index__', '__init__', '__init_subclass__', '__int__', '__invert__', '__le__', '__lshift__', '__lt__', '__mod__', '__mul__', '__ne__', '__neg__', '__new__', '__or__', '__pos__', '__pow__', '__radd__', '__rand__', '__rdivmod__', '__reduce__', '__reduce_ex__', '__repr__', '__rfloordiv__', '__rlshift__', '__rmod__', '__rmul__', '__ror__', '__round__', '__rpow__', '__rrshift__', '__rshift__', '__rsub__', '__rtruediv__', '__rxor__', '__setattr__', '__sizeof__', '__str__', '__sub__', '__subclasshook__', '__truediv__', '__trunc__', '__xor__', 'as_integer_ratio', 'bit_length', 'conjugate', 'denominator', 'from_bytes', 'imag', 'numerator', 'real', 'to_bytes']\n"
     ]
    }
   ],
   "source": [
    "# Membership operator- in, not in\n",
    "# Container - List, Tuple, string, Dictionary, set, frozenset etc\n",
    "\n",
    "# my_str = 'This is Python class at Learnbay'\n",
    "# print('i' in my_str)\n",
    "# print('at' in my_str)\n",
    "# print('class' in my_str)\n",
    "# print('i' not in my_str)\n",
    "# print('at' not in my_str)\n",
    "# print('class' not in my_str)\n",
    "\n",
    "# my_lst = [10,10.20, 10+20j, 'Python', 1, [1,2,3], (1,2,3)]\n",
    "# print(10+20j in my_lst)\n",
    "# print(True in my_lst)\n",
    "# print(2 in my_lst)\n",
    "# print(1 in my_lst)\n",
    "\n",
    "print(dir(bool))\n"
   ]
  },
  {
   "cell_type": "code",
   "execution_count": 51,
   "id": "a938bf48",
   "metadata": {
    "ExecuteTime": {
     "end_time": "2021-06-08T15:03:06.770944Z",
     "start_time": "2021-06-08T15:03:06.766490Z"
    }
   },
   "outputs": [
    {
     "name": "stdout",
     "output_type": "stream",
     "text": [
      "hello\n"
     ]
    }
   ],
   "source": [
    "# Ternary Operator - expr if cond else expr\n",
    "# expr1 if cond1 else expr2 if cond2 else expr3\n",
    "\n",
    "'''a = int(input('Enter 1st Value: '))\n",
    "b = int(input('Enter 2nd Value: '))\n",
    "c = int(input('Enter 3rd Value: '))\n",
    "print(a if a>b and a>c else b if b>c else c)'''\n",
    "print('hello')\n",
    "\n",
    "\n",
    "\n"
   ]
  },
  {
   "cell_type": "code",
   "execution_count": null,
   "id": "da3f1c1a",
   "metadata": {},
   "outputs": [],
   "source": [
    "# Float\n",
    "# Any value with decimal point\n",
    "# 10.20, -10.20, 0.0001\n",
    "# Can be represented only in decimal format\n",
    "# Bitwise operator does not work on float\n",
    "\n",
    "\n"
   ]
  },
  {
   "cell_type": "code",
   "execution_count": null,
   "id": "73a113c2",
   "metadata": {},
   "outputs": [],
   "source": [
    "# Complex - a+bj\n",
    "# where a is real part and b is imaginary part\n",
    "# 10+20j, 10-20j, 10.20-20.30j, -20.30+40j\n",
    "# Can be represented only in decimal format\n",
    "# Modulo operator and Bitwise, Operator, comparison operator does not work in complex numbers\n",
    "\n",
    "\n"
   ]
  },
  {
   "cell_type": "code",
   "execution_count": 21,
   "id": "c25ca2c5",
   "metadata": {
    "ExecuteTime": {
     "end_time": "2021-06-08T14:42:19.784996Z",
     "start_time": "2021-06-08T14:42:19.777517Z"
    }
   },
   "outputs": [
    {
     "name": "stdout",
     "output_type": "stream",
     "text": [
      "<class 'bool'>\n"
     ]
    }
   ],
   "source": [
    "# Boolean - True and False\n",
    "# True == 1\n",
    "# False == 0\n",
    "\n",
    "# From other value to Boolean\n",
    "# int - except 0 everything is True\n",
    "# float - 0.0 is False rest all True\n",
    "# complex - 0.0+0.0j is False and rest all True\n",
    "# None is always False\n",
    "# String - '' is always False, Rest all True - ' '\n",
    "\n",
    "# List, Tuple, set, dictionary - [], (), {}, set() - False\n",
    "\n",
    "# bool()\n",
    "# print(bool(''))\n",
    "# print(bool(' '))\n",
    "# print(bool('A'))\n",
    "\n",
    "# print(bool(0))\n",
    "# print(bool(-10))\n",
    "\n",
    "# print(bool(0.0000000000))\n",
    "# print(bool(0.00000000001))\n",
    "\n",
    "# print(bool(0.0000+0.000j))\n",
    "# print(bool(0.0000+0.0001j))\n",
    "\n",
    "# print(bool(None))\n",
    "\n",
    "# print(bool([None]))\n",
    "# print(bool(()))\n",
    "# print(bool({}))\n",
    "# print(bool(set()))\n",
    "\n",
    "print(type(True))\n",
    "\n",
    "a = []\n",
    "b = None\n",
    "\n"
   ]
  },
  {
   "cell_type": "code",
   "execution_count": 40,
   "id": "89385009",
   "metadata": {
    "ExecuteTime": {
     "end_time": "2021-06-08T14:55:10.715513Z",
     "start_time": "2021-06-08T14:55:10.711055Z"
    }
   },
   "outputs": [],
   "source": [
    "# Typecasting - int(), float(), complex()\n",
    "\n",
    "# Values accepted by int()\n",
    "# print(int(10))\n",
    "# print(int(10.20))\n",
    "# print(int('10'))\n",
    "# print(int(True))\n",
    "# print(int(0b10101))\n",
    "# print(int(0o7654))\n",
    "# print(int(0xfc98))\n",
    "\n",
    "# print(int('10.20'))\n",
    "# print(int(10+20j))\n",
    "# print(int('True'))\n",
    "# print(int('0b10101'))\n",
    "\n",
    "\n",
    "# float()\n",
    "# print(float(10))\n",
    "# print(float(10.20))\n",
    "# print(float('10.20'))\n",
    "# print(float('10'))\n",
    "# print(float(True))\n",
    "# print(float(0b10101))\n",
    "# print(float(0o7654))\n",
    "# print(float(0xfc98))\n",
    "\n",
    "# print(float(10+20j))\n",
    "# print(float('True'))\n",
    "# print(float('0b10101'))\n",
    "\n",
    "# complex(real) - real+0j\n",
    "# complex(real, imag) - real+imag*j\n",
    "# If first value is string then we can not pass the second value\n",
    "# Second value can not be string\n",
    "\n",
    "# print(complex(10))\n",
    "# print(complex(10.20))\n",
    "# print(complex(True))\n",
    "# print(complex('10'))\n",
    "# print(complex('10.20'))\n",
    "# print(complex(0b10101))\n",
    "# print(complex(0o7654))\n",
    "# print(complex(0xfc98))\n",
    "\n",
    "# print(complex('10', 20))\n",
    "# print(complex('10.20', 30))\n",
    "\n",
    "# print(complex(10, 20))\n",
    "# print(complex(10, 20.30))\n",
    "# print(complex(10, '20.30'))\n",
    "\n",
    "\n",
    "\n",
    "\n"
   ]
  },
  {
   "cell_type": "code",
   "execution_count": 53,
   "id": "d08a3499",
   "metadata": {
    "ExecuteTime": {
     "end_time": "2021-06-08T15:04:47.907793Z",
     "start_time": "2021-06-08T15:04:47.902412Z"
    }
   },
   "outputs": [],
   "source": [
    "# String - '...', \"...\", '''...''', \"\"\"...\"\"\"\n",
    "\n",
    "# a = 'Python'\n",
    "# print(a, type(a))\n",
    "\n",
    "# a = \"Python\"\n",
    "# print(a, type(a))\n",
    "\n",
    "# a = '''Python'''\n",
    "# print(a, type(a))\n",
    "\n",
    "# a = \"\"\"Python\"\"\"\n",
    "# print(a, type(a))\n",
    "\n",
    "\n",
    "# a = \"This is Python's class\"\n",
    "# print(a, type(a))\n",
    "\n",
    "# a = 'This is \"Python\" class'\n",
    "# print(a, type(a))\n",
    "\n",
    "# a = '''This is Python's and \"Java\" class'''\n",
    "# print(a, type(a))\n",
    "\n",
    "\n",
    "# a = '''This\n",
    "# is\n",
    "# Python\n",
    "# class'''\n",
    "# print(a)\n",
    "\n",
    "\n",
    "# Documentation\n",
    "# def f1():\n",
    "#     '''This is a function'''\n",
    "#     pass\n",
    "\n",
    "# class myFirstClass:\n",
    "#     '''This is a class'''\n",
    "#     pass\n",
    "\n",
    "# print(f1.__doc__)\n"
   ]
  },
  {
   "cell_type": "code",
   "execution_count": null,
   "id": "3f9c1e64",
   "metadata": {},
   "outputs": [],
   "source": [
    "Thursday"
   ]
  },
  {
   "cell_type": "code",
   "execution_count": null,
   "id": "d51a5354",
   "metadata": {},
   "outputs": [],
   "source": []
  },
  {
   "cell_type": "code",
   "execution_count": null,
   "id": "a97fb390",
   "metadata": {},
   "outputs": [],
   "source": []
  },
  {
   "cell_type": "code",
   "execution_count": null,
   "id": "a9dcd4b5",
   "metadata": {},
   "outputs": [],
   "source": []
  },
  {
   "cell_type": "code",
   "execution_count": null,
   "id": "2fa753f5",
   "metadata": {},
   "outputs": [],
   "source": []
  },
  {
   "cell_type": "code",
   "execution_count": null,
   "id": "c8d3244e",
   "metadata": {},
   "outputs": [],
   "source": []
  },
  {
   "cell_type": "code",
   "execution_count": null,
   "id": "5df9ef73",
   "metadata": {},
   "outputs": [],
   "source": []
  },
  {
   "cell_type": "code",
   "execution_count": null,
   "id": "ee2c9509",
   "metadata": {},
   "outputs": [],
   "source": []
  },
  {
   "cell_type": "code",
   "execution_count": null,
   "id": "a4f9340a",
   "metadata": {},
   "outputs": [],
   "source": []
  },
  {
   "cell_type": "code",
   "execution_count": null,
   "id": "e22ba5d8",
   "metadata": {},
   "outputs": [],
   "source": []
  },
  {
   "cell_type": "code",
   "execution_count": null,
   "id": "3e9933ae",
   "metadata": {},
   "outputs": [],
   "source": []
  },
  {
   "cell_type": "code",
   "execution_count": null,
   "id": "bff75b26",
   "metadata": {},
   "outputs": [],
   "source": []
  },
  {
   "cell_type": "code",
   "execution_count": null,
   "id": "a42c7c6c",
   "metadata": {},
   "outputs": [],
   "source": []
  },
  {
   "cell_type": "code",
   "execution_count": null,
   "id": "8d380282",
   "metadata": {},
   "outputs": [],
   "source": []
  },
  {
   "cell_type": "code",
   "execution_count": null,
   "id": "7f9258e2",
   "metadata": {},
   "outputs": [],
   "source": []
  },
  {
   "cell_type": "code",
   "execution_count": null,
   "id": "cff52e4e",
   "metadata": {},
   "outputs": [],
   "source": []
  },
  {
   "cell_type": "code",
   "execution_count": null,
   "id": "f1edd387",
   "metadata": {},
   "outputs": [],
   "source": []
  },
  {
   "cell_type": "code",
   "execution_count": null,
   "id": "633c3748",
   "metadata": {},
   "outputs": [],
   "source": []
  },
  {
   "cell_type": "code",
   "execution_count": null,
   "id": "0eb8b97c",
   "metadata": {},
   "outputs": [],
   "source": []
  },
  {
   "cell_type": "code",
   "execution_count": null,
   "id": "b63cc3d7",
   "metadata": {},
   "outputs": [],
   "source": []
  },
  {
   "cell_type": "code",
   "execution_count": null,
   "id": "9837eee2",
   "metadata": {},
   "outputs": [],
   "source": []
  },
  {
   "cell_type": "code",
   "execution_count": null,
   "id": "7559b19a",
   "metadata": {},
   "outputs": [],
   "source": []
  },
  {
   "cell_type": "code",
   "execution_count": null,
   "id": "4473f8a1",
   "metadata": {},
   "outputs": [],
   "source": []
  },
  {
   "cell_type": "code",
   "execution_count": null,
   "id": "60cf4436",
   "metadata": {},
   "outputs": [],
   "source": []
  },
  {
   "cell_type": "code",
   "execution_count": null,
   "id": "3936e10c",
   "metadata": {},
   "outputs": [],
   "source": []
  },
  {
   "cell_type": "code",
   "execution_count": null,
   "id": "6431d47f",
   "metadata": {},
   "outputs": [],
   "source": []
  },
  {
   "cell_type": "code",
   "execution_count": null,
   "id": "1211a5aa",
   "metadata": {},
   "outputs": [],
   "source": []
  },
  {
   "cell_type": "code",
   "execution_count": null,
   "id": "be7bb2fe",
   "metadata": {},
   "outputs": [],
   "source": []
  },
  {
   "cell_type": "code",
   "execution_count": null,
   "id": "a3a4647b",
   "metadata": {},
   "outputs": [],
   "source": []
  },
  {
   "cell_type": "code",
   "execution_count": null,
   "id": "6bbe196a",
   "metadata": {},
   "outputs": [],
   "source": []
  },
  {
   "cell_type": "code",
   "execution_count": null,
   "id": "907149e5",
   "metadata": {},
   "outputs": [],
   "source": []
  },
  {
   "cell_type": "code",
   "execution_count": null,
   "id": "924bd003",
   "metadata": {},
   "outputs": [],
   "source": []
  },
  {
   "cell_type": "code",
   "execution_count": null,
   "id": "e60ca89b",
   "metadata": {},
   "outputs": [],
   "source": []
  },
  {
   "cell_type": "code",
   "execution_count": null,
   "id": "e04018fa",
   "metadata": {},
   "outputs": [],
   "source": []
  },
  {
   "cell_type": "code",
   "execution_count": null,
   "id": "01d65194",
   "metadata": {},
   "outputs": [],
   "source": []
  },
  {
   "cell_type": "code",
   "execution_count": null,
   "id": "15fcf436",
   "metadata": {},
   "outputs": [],
   "source": []
  },
  {
   "cell_type": "code",
   "execution_count": null,
   "id": "11b115ab",
   "metadata": {},
   "outputs": [],
   "source": []
  },
  {
   "cell_type": "code",
   "execution_count": null,
   "id": "a3f382eb",
   "metadata": {},
   "outputs": [],
   "source": []
  },
  {
   "cell_type": "code",
   "execution_count": null,
   "id": "872554b6",
   "metadata": {},
   "outputs": [],
   "source": []
  },
  {
   "cell_type": "code",
   "execution_count": null,
   "id": "becbdaa8",
   "metadata": {},
   "outputs": [],
   "source": []
  },
  {
   "cell_type": "code",
   "execution_count": null,
   "id": "b65c128c",
   "metadata": {},
   "outputs": [],
   "source": []
  },
  {
   "cell_type": "code",
   "execution_count": null,
   "id": "9746e688",
   "metadata": {},
   "outputs": [],
   "source": []
  },
  {
   "cell_type": "code",
   "execution_count": null,
   "id": "c79f1121",
   "metadata": {},
   "outputs": [],
   "source": []
  },
  {
   "cell_type": "code",
   "execution_count": null,
   "id": "f7405845",
   "metadata": {},
   "outputs": [],
   "source": []
  }
 ],
 "metadata": {
  "kernelspec": {
   "display_name": "Python 3",
   "language": "python",
   "name": "python3"
  },
  "language_info": {
   "codemirror_mode": {
    "name": "ipython",
    "version": 3
   },
   "file_extension": ".py",
   "mimetype": "text/x-python",
   "name": "python",
   "nbconvert_exporter": "python",
   "pygments_lexer": "ipython3",
   "version": "3.8.2"
  }
 },
 "nbformat": 4,
 "nbformat_minor": 5
}
