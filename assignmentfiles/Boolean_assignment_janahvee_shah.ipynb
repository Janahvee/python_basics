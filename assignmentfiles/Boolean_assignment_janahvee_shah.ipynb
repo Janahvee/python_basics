{
 "cells": [
  {
   "cell_type": "code",
   "execution_count": null,
   "metadata": {},
   "outputs": [],
   "source": [
    "'''\n",
    "\n",
    "Q. Declare a boolean value and store it in a variable.\n",
    "Check the type and print the id of the same.\n",
    "\n",
    "'''\n",
    "\n",
    "varb = True\n",
    "print(type(varb))\n",
    "print(id(varb))"
   ]
  },
  {
   "cell_type": "code",
   "execution_count": 1,
   "metadata": {},
   "outputs": [
    {
     "name": "stdout",
     "output_type": "stream",
     "text": [
      "ID of varb1  140726690305872\n",
      "ID of varb2  140726690305872\n"
     ]
    }
   ],
   "source": [
    "'''\n",
    "\n",
    "Q. Take one boolean value between 0 - 256.\n",
    "Assign it to two different variables.\n",
    "Check the id of both the variables. It should come the same. Check why?\n",
    "\n",
    "'''\n",
    "\n",
    "varb1 = bool(1)\n",
    "varb2 = bool(1)\n",
    "print(\"ID of varb1 \",id(varb1))\n",
    "print(\"ID of varb2 \",id(varb1)) #because of object reusability concept for boolean"
   ]
  },
  {
   "cell_type": "code",
   "execution_count": 2,
   "metadata": {},
   "outputs": [
    {
     "name": "stdout",
     "output_type": "stream",
     "text": [
      "Enter boolean value1: True\n",
      "Enter boolean value2: False\n",
      "Aritmentic Operations on variable1 and variable2\n",
      "Sum:  2\n",
      "Difference:  0\n",
      "Product:  1\n",
      "Divide:  1.0\n",
      "Remainder:  0\n",
      "Quotient:  1\n",
      "Power: 1\n"
     ]
    }
   ],
   "source": [
    "'''\n",
    "\n",
    "Q. Arithmetic Operations on boolean data\n",
    "Take two different boolean values.\n",
    "Store them in two different variables.\n",
    "Do below operations on them:-\n",
    "Find sum of both values\n",
    "Find difference between them\n",
    "Find the product of both.\n",
    "Find value after dividing first value with second value\n",
    "Find the remainder after dividing first value with second value\n",
    "Find the quotient after dividing first value with second value\n",
    "Find the result of first value to the power of second value.\n",
    "\n",
    "'''\n",
    "\n",
    "varb1 = bool(input(\"Enter boolean value1: \"))\n",
    "varb2 = bool(input(\"Enter boolean value2: \"))\n",
    "\n",
    "print(\"Aritmentic Operations on variable1 and variable2\")\n",
    "print(\"Sum: \", varb1+varb2)\n",
    "print(\"Difference: \",varb1-varb2)\n",
    "print(\"Product: \",varb1*varb2)\n",
    "print(\"Divide: \",varb1/varb2)\n",
    "print(\"Remainder: \", varb1%varb2)\n",
    "print(\"Quotient: \",varb1//varb2)\n",
    "print(\"Power:\", varb1**varb2)"
   ]
  },
  {
   "cell_type": "code",
   "execution_count": 5,
   "metadata": {},
   "outputs": [
    {
     "name": "stdout",
     "output_type": "stream",
     "text": [
      "Enter boolean value1: True\n",
      "Enter boolean value2: False\n",
      "Comparison Operator on varb1 and varb2\n",
      "False\n",
      "False\n",
      "True\n",
      "True\n"
     ]
    }
   ],
   "source": [
    "'''\n",
    "\n",
    "Q. Equality Operator\n",
    "Take two different boolean values.\n",
    "Store them in two different variables.\n",
    "Equate them using equality operators (==, !=)\n",
    "Observe the output(return type should be boolean)\n",
    "\n",
    "'''\n",
    "varb1 = bool(input(\"Enter boolean value1: \"))\n",
    "varb2 = bool(input(\"Enter boolean value2: \"))\n",
    "\n",
    "print(\"Comparison Operator on varb1 and varb2\")\n",
    "print(varb1>varb2)\n",
    "print(varb1<varb2)\n",
    "print(varb1>=varb2)\n",
    "print(varb1<=varb2)"
   ]
  },
  {
   "cell_type": "code",
   "execution_count": 6,
   "metadata": {},
   "outputs": [
    {
     "name": "stdout",
     "output_type": "stream",
     "text": [
      "Enter boolean value1: True\n",
      "Enter boolean value2: False\n",
      "Equality Operataor on varb1 and varb2\n",
      "True\n",
      "False\n"
     ]
    }
   ],
   "source": [
    "'''\n",
    "Q. Equality Operator\n",
    "Take two different boolean values.\n",
    "Store them in two different variables.\n",
    "Equate them using equality operators (==, !=)\n",
    "Observe the output(return type should be boolean)\n",
    "'''\n",
    "\n",
    "varb1 = bool(input(\"Enter boolean value1: \"))\n",
    "varb2 = bool(input(\"Enter boolean value2: \"))\n",
    "print(\"Equality Operataor on varb1 and varb2\")\n",
    "\n",
    "print(varb1==varb2)\n",
    "print(varb1!=varb2)"
   ]
  },
  {
   "cell_type": "code",
   "execution_count": 9,
   "metadata": {},
   "outputs": [
    {
     "name": "stdout",
     "output_type": "stream",
     "text": [
      "True\n",
      "False\n",
      "False\n",
      "False\n",
      "True\n",
      "True\n",
      "True\n",
      "False\n",
      "False\n",
      "True\n"
     ]
    }
   ],
   "source": [
    "'''\n",
    "Q. Logical operators\n",
    "Observe the output of below code\n",
    "Cross check the output manually\n",
    "print ( True and True )\n",
    "#----------------------------------------->Output is True\n",
    "print ( False and True )\n",
    "#----------------------------------------->Output is False\n",
    "print ( True and False )\n",
    "#----------------------------------------->Output is False\n",
    "print ( False and False )\n",
    "#----------------------------------------->Output is False\n",
    "print ( True or True )\n",
    "#----------------------------------------->Output is True\n",
    "print ( False or True )\n",
    "#----------------------------------------->Output is True\n",
    "print ( True or False )\n",
    "#----------------------------------------->Output is True\n",
    "print ( False or False )\n",
    "#----------------------------------------->Output is False\n",
    "print ( not True )\n",
    "#----------------------------------------->Output is False\n",
    "print ( not False )\n",
    "#----------------------------------------->Output is True\n",
    "'''\n",
    "\n",
    "print ( True and True )\n",
    "print ( False and True )\n",
    "print ( True and False )\n",
    "print ( False and False )\n",
    "print ( True or True )\n",
    "print ( False or True )\n",
    "print ( True or False )\n",
    "print ( False or False )\n",
    "print ( not True )\n",
    "print ( not False )"
   ]
  },
  {
   "cell_type": "code",
   "execution_count": 10,
   "metadata": {},
   "outputs": [
    {
     "name": "stdout",
     "output_type": "stream",
     "text": [
      "True\n",
      "True\n",
      "True\n",
      "-2\n",
      "4\n",
      "0\n"
     ]
    }
   ],
   "source": [
    "'''\n",
    "Q. Bitwise Operators\n",
    "Do below operations on the values provided below:-\n",
    "Bitwise and(&) --------------> True, True -------> Output is True\n",
    "Bitwise or(|) --------------> True, False -------> Output is True\n",
    "Bitwise(^) --------------> True, False -------> Output is True\n",
    "Bitwise negation(~) ---------> True -------> Output is -2\n",
    "Bitwise left shift ---------> True,2 -------> Output is 4\n",
    "Bitwise right shift ---------> True,2 -------> Output is 0\n",
    "Cross check the output manually\n",
    "'''\n",
    "print(True&True)\n",
    "print(True|False)\n",
    "print(True^False)\n",
    "print(~True)\n",
    "print(True<<2)\n",
    "print(True>>2)"
   ]
  },
  {
   "cell_type": "code",
   "execution_count": 8,
   "metadata": {},
   "outputs": [
    {
     "name": "stdout",
     "output_type": "stream",
     "text": [
      "True\n",
      "False\n",
      "True\n",
      "False\n"
     ]
    }
   ],
   "source": [
    "'''\n",
    "Q. What is the output of expression inside the print statement. Cross\n",
    "check before running the program.\n",
    "a = True\n",
    "b = True\n",
    "print (a is b) #True or False? #\n",
    "print (a is not b) #True or False?\n",
    "a = False\n",
    "b = False\n",
    "print (a is b) #True or False?\n",
    "print (a is not b) #True or False?\n",
    "'''\n",
    "\n",
    "a = True\n",
    "b = True\n",
    "print (a is b)\n",
    "print (a is not b)\n",
    "a = False\n",
    "b = False\n",
    "print (a is b)\n",
    "print (a is not b)"
   ]
  },
  {
   "cell_type": "code",
   "execution_count": 7,
   "metadata": {},
   "outputs": [
    {
     "name": "stdout",
     "output_type": "stream",
     "text": [
      "True\n",
      "True\n",
      "True\n",
      "True\n",
      "True\n"
     ]
    }
   ],
   "source": [
    "'''\n",
    "Q. Membership operation\n",
    "in, not in are two membership operators and it returns boolean value\n",
    "print ( True in [ 10 , 10.20 , 10 + 20j , 'Python' , True ])\n",
    "print ( False in ( 10 , 10.20 , 10 + 20j , 'Python' , False ))\n",
    "print ( True in { 1 , 2 , 3 , True })\n",
    "print ( True in { True : 100 , False : 200 , True : 300 })\n",
    "print ( False in { True : 100 , False : 200 , True : 300 })\n",
    "'''\n",
    "\n",
    "print ( True in [ 10 , 10.20 , 10 + 20j , 'Python' , True ])\n",
    "print ( False in ( 10 , 10.20 , 10 + 20j , 'Python' , False ))\n",
    "print ( True in { 1 , 2 , 3 , True })\n",
    "print ( True in { True : 100 , False : 200 , True : 300 })\n",
    "print ( False in { True : 100 , False : 200 , True : 300 })"
   ]
  },
  {
   "cell_type": "code",
   "execution_count": null,
   "metadata": {},
   "outputs": [],
   "source": []
  }
 ],
 "metadata": {
  "kernelspec": {
   "display_name": "Python 3",
   "language": "python",
   "name": "python3"
  },
  "language_info": {
   "codemirror_mode": {
    "name": "ipython",
    "version": 3
   },
   "file_extension": ".py",
   "mimetype": "text/x-python",
   "name": "python",
   "nbconvert_exporter": "python",
   "pygments_lexer": "ipython3",
   "version": "3.8.5"
  }
 },
 "nbformat": 4,
 "nbformat_minor": 4
}
