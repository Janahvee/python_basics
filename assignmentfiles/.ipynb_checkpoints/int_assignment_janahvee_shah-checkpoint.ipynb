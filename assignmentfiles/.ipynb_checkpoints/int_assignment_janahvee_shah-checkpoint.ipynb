{
 "cells": [
  {
   "cell_type": "code",
   "execution_count": 1,
   "metadata": {},
   "outputs": [
    {
     "name": "stdout",
     "output_type": "stream",
     "text": [
      "140719211424128\n"
     ]
    }
   ],
   "source": [
    "'''\n",
    "Q. Declare an int value and store it in a variable.\n",
    "Check the type and print the id of the same.\n",
    "\n",
    "'''\n",
    "num = 20\n",
    "print(type(num))\n",
    "print(id(num))"
   ]
  },
  {
   "cell_type": "code",
   "execution_count": 5,
   "metadata": {},
   "outputs": [
    {
     "name": "stdout",
     "output_type": "stream",
     "text": [
      "Id of num1 is 140719211429888\n",
      "Id of num2 is 140719211429888\n"
     ]
    },
    {
     "data": {
      "text/plain": [
       "'\\n\\nid is same for both variable due to integer caching\\nWhen we start python it automatically creates object for 0-256 so when we assign this value to any variable,\\nwe are just pointing it to the exisitng object.\\n\\n'"
      ]
     },
     "execution_count": 5,
     "metadata": {},
     "output_type": "execute_result"
    }
   ],
   "source": [
    "'''\n",
    "Q. Take one int value between 0 - 256.\n",
    "Assign it to two different variables.\n",
    "Check the id of both the variables. It should come the same. Check why?\n",
    "\n",
    "'''\n",
    "\n",
    "num1 = 200\n",
    "num2 = 200\n",
    "print(\"Id of num1 is\", id(num1))\n",
    "print(\"Id of num2 is\", id(num2))\n",
    "\n",
    "\"\"\"\n",
    "\n",
    "id is same for both variable due to integer caching\n",
    "When we start python it automatically creates object for 0-256 so when we assign this value to any variable,\n",
    "we are just pointing it to the exisitng object.\n",
    "\n",
    "\"\"\"\n"
   ]
  },
  {
   "cell_type": "code",
   "execution_count": 6,
   "metadata": {},
   "outputs": [
    {
     "name": "stdout",
     "output_type": "stream",
     "text": [
      "Id of num1 is 187429977520\n",
      "Id of num2 is 187429977776\n"
     ]
    },
    {
     "data": {
      "text/plain": [
       "\"\\nIt's because range of the integer caching is 0 to 256\\n\""
      ]
     },
     "execution_count": 6,
     "metadata": {},
     "output_type": "execute_result"
    }
   ],
   "source": [
    "'''\n",
    "\n",
    "Q. Take one int value either less than -5 or greater than 256.\n",
    "Assign it to two different variables.\n",
    "Check the id of both the variables. It should come different.Check why?\n",
    "\n",
    "'''\n",
    "\n",
    "num1 = 900\n",
    "num2 = 900\n",
    "print(\"Id of num1 is\", id(num1))\n",
    "print(\"Id of num2 is\", id(num2))\n",
    "\n",
    "\"\"\"\n",
    "It's because range of the integer caching is [-5,256]\n",
    "Question: why range is [-5,256] only, is there any reson regarding storage??\n",
    "\"\"\""
   ]
  },
  {
   "cell_type": "code",
   "execution_count": 10,
   "metadata": {},
   "outputs": [
    {
     "name": "stdout",
     "output_type": "stream",
     "text": [
      "Enter number1:20\n",
      "Enter number2:2\n",
      "Aritmentic Operations on number1 and number2\n",
      "Sum:  22\n",
      "Difference:  18\n",
      "Product:  40\n",
      "Divide:  10.0\n",
      "Remainder:  0\n",
      "Quotient:  10\n",
      "Power: 400\n"
     ]
    }
   ],
   "source": [
    "'''\n",
    "Q. Arithmetic Operations on integers\n",
    "Take two different integer values.\n",
    "Store them in two different variables.\n",
    "Do below operations on them:-\n",
    "Find sum of both numbers\n",
    "Find difference between them\n",
    "Find the product of both numbers.\n",
    "Find value after dividing first num with second number\n",
    "Find the remainder after dividing first number with second number\n",
    "Find the quotient after dividing first number with second number\n",
    "Find the result of the first num to the power of the second number.\n",
    "\n",
    "'''\n",
    "\n",
    "num1 = eval(input(\"Enter number1:\"))\n",
    "num2 = eval(input(\"Enter number2:\"))\n",
    "print(\"Aritmentic Operations on number1 and number2\")\n",
    "print(\"Sum: \", num1+num2)\n",
    "print(\"Difference: \",num1-num2)\n",
    "print(\"Product: \",num1*num2)\n",
    "print(\"Divide: \",num1/num2)\n",
    "print(\"Remainder: \", num1%num2)\n",
    "print(\"Quotient: \",num1//num2)\n",
    "print(\"Power:\", num1**num2)"
   ]
  },
  {
   "cell_type": "code",
   "execution_count": 12,
   "metadata": {},
   "outputs": [
    {
     "name": "stdout",
     "output_type": "stream",
     "text": [
      "Enter number1:10\n",
      "Enter number2:20\n",
      "Comparison Operataor on number1 and number2\n",
      "False\n",
      "True\n",
      "False\n",
      "True\n"
     ]
    }
   ],
   "source": [
    "'''\n",
    "Q. Comparison Operators on integers\n",
    "Take two different integer values.\n",
    "Store them in two different variables.\n",
    "Do below operations on them:-\n",
    "Compare se two numbers with below operator:-\n",
    "Greater than, '>'\n",
    "Smaller than, '<'\n",
    "Greater than or equal to, '>='\n",
    "Less than or equal to, '<='\n",
    "Observe their output(return type should be boolean)\n",
    "\n",
    "'''\n",
    "\n",
    "num1 = eval(input(\"Enter number1:\"))\n",
    "num2 = eval(input(\"Enter number2:\"))\n",
    "print(\"Comparison Operataor on number1 and number2\")\n",
    "print(num1>num2)\n",
    "print(num1<num2)\n",
    "print(num1>=num2)\n",
    "print(num1<=num2)"
   ]
  },
  {
   "cell_type": "code",
   "execution_count": 14,
   "metadata": {},
   "outputs": [
    {
     "name": "stdout",
     "output_type": "stream",
     "text": [
      "Enter number1:20\n",
      "Enter number2:20\n",
      "Equality Operataor on number1 and number2\n",
      "True\n",
      "False\n"
     ]
    }
   ],
   "source": [
    "'''\n",
    "\n",
    "Q. Equality Operator\n",
    "Take two different integer values.\n",
    "Store them in two different variables.\n",
    "Equate them using equality operators (==, !=)\n",
    "Observe the output(return type should be boolean)\n",
    "\n",
    "'''\n",
    "\n",
    "num1 = eval(input(\"Enter number1:\"))\n",
    "num2 = eval(input(\"Enter number2:\"))\n",
    "print(\"Equality Operataor on number1 and number2\")\n",
    "\n",
    "print(num1==num2)\n",
    "print(num1!=num2)\n"
   ]
  },
  {
   "cell_type": "code",
   "execution_count": 16,
   "metadata": {},
   "outputs": [
    {
     "name": "stdout",
     "output_type": "stream",
     "text": [
      "20\n",
      "0\n",
      "0\n",
      "0\n",
      "10\n",
      "20\n",
      "20\n",
      "0\n",
      "False\n",
      "True\n"
     ]
    },
    {
     "data": {
      "text/plain": [
       "'\\n\\nIf the first operand of an “or” expression is true, return the first operand. Otherwise, evaluate and return the second operand.\\n\\nIf the first operand of an “and” expression is false, return the first operand. Otherwise, evaluate and return the second operand.\\n\\nIn integer 0 is false else everything is true\\n\\n'"
      ]
     },
     "execution_count": 16,
     "metadata": {},
     "output_type": "execute_result"
    }
   ],
   "source": [
    "'''\n",
    "\n",
    "Q. Logical operators\n",
    "Observe the output of below code\n",
    "Cross check the output manually\n",
    "print ( 10 and 20 )\n",
    "#----------------------------------------->Output is 20\n",
    "print ( 0 and 20 )\n",
    "#----------------------------------------->Output is 0\n",
    "print ( 20 and 0 )\n",
    "#----------------------------------------->Output is 0\n",
    "print ( 0 and 0 )\n",
    "#----------------------------------------->Output is 0\n",
    "print ( 10 or 20 )\n",
    "#----------------------------------------->Output is 10\n",
    "print ( 0 or 20 )\n",
    "#----------------------------------------->Output is 20\n",
    "print ( 20 or 0 )\n",
    "#----------------------------------------->Output is 20\n",
    "print ( 0 or 0 )\n",
    "#----------------------------------------->Output is 0\n",
    "print ( not 10 )\n",
    "#----------------------------------------->Output is False\n",
    "print ( not 0 )\n",
    "#----------------------------------------->Output is True\n",
    "\n",
    "'''\n",
    "\n",
    "print ( 10 and 20 )\n",
    "print ( 0 and 20 )\n",
    "print ( 20 and 0 )\n",
    "print ( 0 and 0 )\n",
    "print ( 10 or 20 )\n",
    "print ( 0 or 20 )\n",
    "print ( 20 or 0 )\n",
    "print ( 0 or 0 )\n",
    "print ( not 10 )\n",
    "print ( not 0 )\n",
    "\n",
    "\"\"\"\n",
    "\n",
    "If the first operand of an “or” expression is true, return the first operand. Otherwise, evaluate and return the second operand.\n",
    "\n",
    "If the first operand of an “and” expression is false, return the first operand. Otherwise, evaluate and return the second operand.\n",
    "\n",
    "In integer 0 is false else everything is true\n",
    "\n",
    "\"\"\""
   ]
  },
  {
   "cell_type": "code",
   "execution_count": 6,
   "metadata": {},
   "outputs": [
    {
     "name": "stdout",
     "output_type": "stream",
     "text": [
      "0\n",
      "30\n",
      "30\n",
      "-11\n",
      "40\n",
      "2\n"
     ]
    }
   ],
   "source": [
    "'''\n",
    "\n",
    "Q. Bitwise Operators\n",
    "Do below operations on the values provided below:-\n",
    "Bitwise and(&) -----------------------------------------> 10, 20\n",
    "-------> Output is 0\n",
    "Bitwise or(|) -----------------------------------------> 10, 20\n",
    "-------> Output is 30\n",
    "Bitwise(^) -----------------------------------------> 10, 20\n",
    "-------> Output is 30\n",
    "Bitwise negation(~) ------------------------------------> 10\n",
    "-------> Output is -11\n",
    "Bitwise left shift ------------------------------------> 10,2\n",
    "-------> Output is 40\n",
    "Bitwise right shift ------------------------------------> 10,2\n",
    "-------> Output is 2\n",
    "Cross check the output manually\n",
    "\n",
    "'''\n",
    "\n",
    "print(10&20)\n",
    "print(10|20)\n",
    "print(10^20)\n",
    "print(~10)\n",
    "print(10<<2)\n",
    "print(10>>2)"
   ]
  },
  {
   "cell_type": "code",
   "execution_count": 20,
   "metadata": {},
   "outputs": [
    {
     "name": "stdout",
     "output_type": "stream",
     "text": [
      "True\n",
      "False\n",
      "False\n",
      "True\n"
     ]
    },
    {
     "data": {
      "text/plain": [
       "'\\n\\nDue to integer caching for value 10, a and b point to same object\\n\\nis, is not are Identity Operators, it compares the object and memory location\\n\\nis Returns true if both variables are the same object\\n\\nis not \\tReturns true if both variables are not the same object\\n\\n'"
      ]
     },
     "execution_count": 20,
     "metadata": {},
     "output_type": "execute_result"
    }
   ],
   "source": [
    "'''\n",
    "\n",
    "Q. What is the output of expression inside print statement. Cross check\n",
    "before running the program.\n",
    "a = 10\n",
    "b = 10\n",
    "print(a is b) #True or False? - True\n",
    "print(a is not b) #True or False? - False\n",
    "a = 1000\n",
    "b = 1000\n",
    "print(a is b) #True or False? - False\n",
    "print(a is not b) #True or False? - True\n",
    "\n",
    "'''\n",
    "\n",
    "a = 10\n",
    "b = 10\n",
    "print(a is b) \n",
    "print(a is not b)\n",
    "\n",
    "a = 1000\n",
    "b = 1000\n",
    "print(a is b)\n",
    "print(a is not b) \n",
    "\n",
    "\"\"\"\n",
    "\n",
    "Due to integer caching for value 10, a and b point to same object\n",
    "\n",
    "is, is not are Identity Operators, it compares the object and memory location\n",
    "\n",
    "is Returns true if both variables are the same object\n",
    "\n",
    "is not \tReturns true if both variables are not the same object\n",
    "\n",
    "\"\"\""
   ]
  },
  {
   "cell_type": "code",
   "execution_count": 38,
   "metadata": {},
   "outputs": [
    {
     "name": "stdout",
     "output_type": "stream",
     "text": [
      "Execution order\n",
      "10 +( 10 * 32 )// 32 & 20 +(~( -10 ))<< 2 \n",
      "10 +( 10 * 32 )// 32 & 20 + 9 << 2 \n",
      "10 + 320 // 32 & 20 + 9 << 2\n",
      "10 + 10 & 20 + 9 << 2\n",
      "20 & 29 << 2\n",
      "20 & 116\n",
      "------------------------------------------------\n",
      "20\n"
     ]
    },
    {
     "data": {
      "text/plain": [
       "\"\\n\\nfrom highest to lowest\\n\\n**\\tExponentiation (raise to the power)\\n~ + -\\tComplement, unary plus and minus (method names for the last two are +@ and -@)\\n* / % //\\tMultiply, divide, modulo and floor division\\n+ -\\tAddition and subtraction\\n>> <<\\tRight and left bitwise shift\\n&\\tBitwise 'AND'td>\\n^ |\\tBitwise exclusive `OR' and regular `OR'\\n<= < > >=\\tComparison operators\\n<> == !=\\tEquality operators\\n= %= /= //= -= += *= **=\\tAssignment operators\\nis is not\\tIdentity operators\\nin not in\\tMembership operators\\nnot or and\\tLogical operators\\n\\n\""
      ]
     },
     "execution_count": 38,
     "metadata": {},
     "output_type": "execute_result"
    }
   ],
   "source": [
    "'''\n",
    "\n",
    "Q. What is the output of expression inside print statement. Cross check\n",
    "before running the program.\n",
    "print ( 10 +( 10 * 32 )// 2 ** 5 & 20 +(~( -10 ))<< 2 )\n",
    "\n",
    "'''\n",
    "print(\"Execution order\")\n",
    "print(\"10 +( 10 * 32 )// 32 & 20 +(~( -10 ))<< 2 \")\n",
    "print(\"10 +( 10 * 32 )// 32 & 20 + 9 << 2 \")\n",
    "print(\"10 + 320 // 32 & 20 + 9 << 2\")\n",
    "print(\"10 + 10 & 20 + 9 << 2\")\n",
    "print(\"20 & 29 << 2\")\n",
    "print(\"20 & 116\")\n",
    "print(\"------------------------------------------------\")\n",
    "print ( 10 +( 10 * 32 )// 2 ** 5 & 20 +(~( -10 ))<< 2 )\n",
    "\n",
    "\"\"\"\n",
    "\n",
    "from highest to lowest\n",
    "\n",
    "**\tExponentiation (raise to the power)\n",
    "~ + -\tComplement, unary plus and minus (method names for the last two are +@ and -@)\n",
    "* / % //\tMultiply, divide, modulo and floor division\n",
    "+ -\tAddition and subtraction\n",
    ">> <<\tRight and left bitwise shift\n",
    "&\tBitwise 'AND'td>\n",
    "^ |\tBitwise exclusive `OR' and regular `OR'\n",
    "<= < > >=\tComparison operators\n",
    "<> == !=\tEquality operators\n",
    "= %= /= //= -= += *= **=\tAssignment operators\n",
    "is is not\tIdentity operators\n",
    "in not in\tMembership operators\n",
    "not or and\tLogical operators\n",
    "\n",
    "\"\"\""
   ]
  },
  {
   "cell_type": "code",
   "execution_count": 39,
   "metadata": {},
   "outputs": [
    {
     "name": "stdout",
     "output_type": "stream",
     "text": [
      "True\n",
      "True\n",
      "True\n",
      "True\n",
      "True\n",
      "True\n"
     ]
    }
   ],
   "source": [
    "'''\n",
    "\n",
    "Q. Membership operation\n",
    "in, not in are two membership operators and it returns boolean value\n",
    "print ( '2' in 'Python2.7.8' )\n",
    "print ( 10 in [ 10 , 10.20 , 10 + 20j , 'Python' ])\n",
    "print ( 10 in ( 10 , 10.20 , 10 + 20j , 'Python' ))\n",
    "print ( 2 in { 1 , 2 , 3 })\n",
    "print ( 3 in { 1 : 100 , 2 : 200 , 3 : 300 })\n",
    "print ( 10 in range ( 20 ))\n",
    "\n",
    "'''\n",
    "\n",
    "print ( '2' in 'Python2.7.8' )\n",
    "print ( 10 in [ 10 , 10.20 , 10 + 20j , 'Python' ])\n",
    "print ( 10 in ( 10 , 10.20 , 10 + 20j , 'Python' ))\n",
    "print ( 2 in { 1 , 2 , 3 })\n",
    "print ( 3 in { 1 : 100 , 2 : 200 , 3 : 300 })\n",
    "print ( 10 in range ( 20 ))"
   ]
  },
  {
   "cell_type": "code",
   "execution_count": 12,
   "metadata": {},
   "outputs": [
    {
     "name": "stdout",
     "output_type": "stream",
     "text": [
      "Binary 0b10011010010100\n",
      "Octal 0o23224\n",
      "hexadecimal 0x2694\n"
     ]
    }
   ],
   "source": [
    "'''\n",
    "\n",
    "Q. An integer can be represented in binary, octal or hexadecimal form.\n",
    "Declare one binary, one octal and one hexadecimal value and store them\n",
    "in three different variables.\n",
    "Convert 9876 to its binary, octal and hexadecimal equivalent and print\n",
    "their corresponding value.\n",
    "\n",
    "'''\n",
    "numbin = 0b1010\n",
    "numoct = 0o132\n",
    "numhex = 0x385\n",
    "\n",
    "num = 9876\n",
    "print(\"Binary\",bin(num))\n",
    "print(\"Octal\",oct(num))\n",
    "print(\"hexadecimal\",hex(num))"
   ]
  },
  {
   "cell_type": "code",
   "execution_count": 5,
   "metadata": {},
   "outputs": [
    {
     "name": "stdout",
     "output_type": "stream",
     "text": [
      "80\n",
      "3870\n",
      "64222\n",
      "0b1010000\n",
      "0o7436\n",
      "0xfade\n",
      "0b1010000\n",
      "0b1111101011011110\n",
      "0o175336\n",
      "0o7436\n",
      "0x50\n",
      "0xfade\n"
     ]
    }
   ],
   "source": [
    "'''\n",
    "\n",
    "Q. What will be the output of following:-\n",
    "a = 0 b1010000\n",
    "print (a)\n",
    "b = 0 o7436\n",
    "print (b)\n",
    "c = 0x fade\n",
    "print (c)\n",
    "print ( bin ( 80 ))\n",
    "print ( oct ( 3870 ))\n",
    "print ( hex ( 64222 ))\n",
    "print ( bin ( 0 b1010000))\n",
    "print ( bin ( 0x fade ))\n",
    "print ( oct ( 0x fade ))\n",
    "print ( oct ( 0 o7436))\n",
    "print ( hex ( 0 b1010000))\n",
    "print ( hex ( 0x fade ))\n",
    "\n",
    "'''\n",
    "\n",
    "a = 0b1010000\n",
    "print (a)\n",
    "b = 0o7436\n",
    "print (b)\n",
    "c = 0xfade\n",
    "print (c)\n",
    "print ( bin ( 80 ))\n",
    "print ( oct ( 3870 ))\n",
    "print ( hex ( 64222 ))\n",
    "print ( bin ( 0b1010000))\n",
    "print ( bin ( 0xfade ))\n",
    "print ( oct ( 0xfade ))\n",
    "print ( oct ( 0o7436))\n",
    "print ( hex ( 0b1010000))\n",
    "print ( hex ( 0xfade ))"
   ]
  },
  {
   "cell_type": "code",
   "execution_count": null,
   "metadata": {},
   "outputs": [],
   "source": []
  }
 ],
 "metadata": {
  "kernelspec": {
   "display_name": "Python 3",
   "language": "python",
   "name": "python3"
  },
  "language_info": {
   "codemirror_mode": {
    "name": "ipython",
    "version": 3
   },
   "file_extension": ".py",
   "mimetype": "text/x-python",
   "name": "python",
   "nbconvert_exporter": "python",
   "pygments_lexer": "ipython3",
   "version": "3.8.5"
  }
 },
 "nbformat": 4,
 "nbformat_minor": 4
}
