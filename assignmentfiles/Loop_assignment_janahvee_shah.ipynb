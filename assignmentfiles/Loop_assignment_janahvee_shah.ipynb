{
 "cells": [
  {
   "cell_type": "code",
   "execution_count": null,
   "metadata": {},
   "outputs": [],
   "source": [
    "'''\n",
    "Q. W. A P. which takes one number from 0 to 9 from the user and prints\n",
    "it in the word. And if the word is not from 0 to 9 then\n",
    "it should print that number is outside of the range and program should\n",
    "exit.\n",
    "For exapmple:-\n",
    "input = 1\n",
    "output = one\n",
    "\n",
    "'''\n",
    "num =  eval(input(\"Please enter number\"))\n",
    "num_strdict = {0:'zero',1:'One',2:'Two', 3:'three',4:'Four',5:'Five',6:'Six',7:'Seven',8:'Eight',9:'Nine'}\n",
    "while num>=0 and num<=9:\n",
    "    print(num_strdict.get(num))\n",
    "    num =  eval(input(\"Please enter number\"))\n",
    "print(\"number is outside of the range and program should exit.\")\n",
    "\n",
    "    "
   ]
  },
  {
   "cell_type": "code",
   "execution_count": null,
   "metadata": {},
   "outputs": [],
   "source": [
    "'''\n",
    "Q. W. A P. to implement calculator but the operation to be done and two\n",
    "numbers will be taken as input from user:-\n",
    "Operation console should show below:-\n",
    "Please select any one operation from below:-\n",
    "* To add enter 1\n",
    "* to subtract enter 2\n",
    "* To multiply enter 3\n",
    "* To divide enter 4\n",
    "* To divide and find quotient enter 5\n",
    "* To divide and find remainder enter 6\n",
    "* To divide and find num1 to the power of num2 enter 7\n",
    "* To Come out of the program enter 8\n",
    "'''\n",
    "\n",
    "def switcher(choice,num1,num2):\n",
    "    if choice == 1:\n",
    "        return num1+num2\n",
    "    elif choice == 2:\n",
    "        return num1 -num2\n",
    "    elif choice == 3:\n",
    "        return num1*num2\n",
    "    elif choice == 4:\n",
    "        return num1/num2\n",
    "    elif choice == 5:\n",
    "        return num1//num2\n",
    "    elif choice == 6:\n",
    "        return num1%num2\n",
    "    elif choice == 7:\n",
    "        return num1**num2\n",
    "    else:\n",
    "        return 'Exit'\n",
    "\n",
    "choice = 0\n",
    "num1 = eval(input('Enter number 1'))\n",
    "num2 = eval(input('Enter number 2'))\n",
    "while choice!=8:\n",
    "    choice = eval(input('''\n",
    "        Please select any one operation from below:-\n",
    "        * To add enter 1\n",
    "        * to subtract enter 2\n",
    "        * To multiply enter 3\n",
    "        * To divide enter 4\n",
    "        * To divide and find quotient enter 5\n",
    "        * To divide and find remainder enter 6\n",
    "        * To divide and find num1 to the power of num2 enter 7\n",
    "        * To Come out of the program enter 8\n",
    "        '''))    \n",
    "    print(switcher(choice,num1,num2))\n",
    "    "
   ]
  },
  {
   "cell_type": "code",
   "execution_count": null,
   "metadata": {},
   "outputs": [],
   "source": [
    "'''\n",
    "Q. W A P to check whether a year entered by user is an leap year or not ?\n",
    "Check with below input:-\n",
    "leap year:- 2012 , 1968 , 2004 , 1200 , 1600 , 2400\n",
    "Non-lear year:- 1971 , 2006 , 1700 , 1800 , 1900\n",
    "'''\n",
    "\n",
    "year_val = eval(input(\"Enter Year\"))\n",
    "\n",
    "if year_val % 4 == 0:\n",
    "    if year_val % 100 ==0:\n",
    "        if year_val %400 == 0:\n",
    "            print(year_val,\" is leap year\")\n",
    "        else:\n",
    "            print(year_val,\" is not leap year\")\n",
    "    else:\n",
    "        print(year_val,\" is leap year\")\n",
    "else:\n",
    "    print(year_val,\" is not leap year\")"
   ]
  },
  {
   "cell_type": "code",
   "execution_count": null,
   "metadata": {},
   "outputs": [],
   "source": [
    "'''\n",
    "Q. W A P which takes one number from the user and checks whether it is\n",
    "an even or odd number?, If it even then prints number is\n",
    "even number else prints that number is odd number.\n",
    "'''\n",
    "num1 = eval(input(\"Enter number:\"))\n",
    "if num1%2==0:\n",
    "    print(num1,\" is even\")\n",
    "else:\n",
    "    print(num1,\" is odd\")\n",
    "    \n",
    "print(\"--------------------------------\")\n",
    "\n",
    "print(num1, \" is even\") if num1%2 == 0 else print(num1,\" is odd\")"
   ]
  },
  {
   "cell_type": "code",
   "execution_count": null,
   "metadata": {},
   "outputs": [],
   "source": [
    "'''\n",
    "Q. W A P which takes two numbers from the user and prints below output:-\n",
    "1 . num1 is greater than num2 if num1 is greater than num2\n",
    "2 . num1 is smaller than num2 if num1 is smaller than num2\n",
    "3 . num1 is equal to num2 if num1 and num2 are equal\n",
    "Note:- 1 . Do this problem using if - else\n",
    "2 . Do this using ternary operator\n",
    "'''\n",
    "num1 = eval(input(\"Enter number1:\"))\n",
    "num2 = eval(input(\"Enter number2:\"))\n",
    "\n",
    "if num1 > num2:\n",
    "    print(num1,\" is greater than \",num2)\n",
    "elif num1 < num2:\n",
    "    print(num1,\" is smaller than \",num2)\n",
    "else:\n",
    "    print(num1,\" and \",num2,\" are equal\")\n",
    "\n",
    "print(\"-------------------------\")\n",
    "print(num1,\" and \",num2,\" are equal\") if num1 == num2 else print(num1,\" is greater than \",num2) if num1 > num2 else print(num1,\" is smaller than \",num2)"
   ]
  },
  {
   "cell_type": "code",
   "execution_count": null,
   "metadata": {},
   "outputs": [],
   "source": [
    "'''\n",
    "Q. W A P which takes three numbers from the user and prints below\n",
    "output:-\n",
    "1 . num1 is greater than num2 and num3 if num1 is greater than num2\n",
    "and num3\n",
    "2 . num2 is greater than num1 and num3 if num2 is greater than num1\n",
    "and num3\n",
    "3 . num3 is greater than num1 and num2 if num3 is greater than num1\n",
    "and num2\n",
    "Note:- 1 . Do this problem using if - elif - else\n",
    "2 . Do this using ternary operator\n",
    "a = a if a>b else b\n",
    "'''\n",
    "num1 = eval(input(\"Enter number1:\"))\n",
    "num2 = eval(input(\"Enter number2:\"))\n",
    "num3 = eval(input(\"Enter number3:\"))\n",
    "if num1 > num2 and num1 > num3:\n",
    "        print(\"num1 is greater than num2 and num3\")\n",
    "elif num2 > num1 and num2 > num3:\n",
    "    print(\"num2 is greater than num1 and num3\")\n",
    "else:\n",
    "    print(\"num3 is greater than num1 and num2\")\n",
    "\n",
    "print(\"-----------------------------------------------------------\")\n",
    "print(\"num1 is greater than num2 and num3\") if num1 > num2 and num1 > num3 else print(\"num2 is greater than num1 and num3\") if num2 > num1 and num2 > num3 else print(\"num3 is greater than num1 and num2\") "
   ]
  },
  {
   "cell_type": "markdown",
   "metadata": {},
   "source": [
    "# Loops - for loop, while loop"
   ]
  },
  {
   "cell_type": "code",
   "execution_count": 1,
   "metadata": {},
   "outputs": [
    {
     "name": "stdout",
     "output_type": "stream",
     "text": [
      "please enter your string:Write a Python program to find the length of the my_str\n",
      "55\n"
     ]
    }
   ],
   "source": [
    "'''\n",
    "Q. Write a Python program to find the length of the my_str using loop:-\n",
    "Input:- 'Write a Python program to find the length of the my_str'\n",
    "Output:- 55\n",
    "'''\n",
    "def findLen(str):\n",
    "    len = 0\n",
    "    for ch in str:\n",
    "        len = len +1\n",
    "    return len\n",
    "\n",
    "str = input(\"please enter your string:\")\n",
    "print(findLen(str))"
   ]
  },
  {
   "cell_type": "code",
   "execution_count": 2,
   "metadata": {},
   "outputs": [
    {
     "name": "stdout",
     "output_type": "stream",
     "text": [
      "please enter your string:peter piper picked a peck of pickled peppers\n",
      "9\n"
     ]
    }
   ],
   "source": [
    "'''\n",
    "Q. Write a Python program to find the total number of times letter 'p'\n",
    "is appeared in the below string using loop:-\n",
    "Input:- 'peter piper picked a peck of pickled peppers.\\n'\n",
    "Output:- 9\n",
    "'''\n",
    "\n",
    "str = input(\"please enter your string:\")\n",
    "count = 0\n",
    "for i in range(0,findLen(str)-1,1):\n",
    "    if str[i] == 'p':\n",
    "        count = count +1\n",
    "print(count)"
   ]
  },
  {
   "cell_type": "code",
   "execution_count": 3,
   "metadata": {},
   "outputs": [
    {
     "name": "stdout",
     "output_type": "stream",
     "text": [
      "please enter your string:peter piper picked a peck of pickled peppers.\n",
      "0\n",
      "6\n",
      "8\n",
      "12\n",
      "21\n",
      "29\n",
      "37\n",
      "39\n",
      "40\n"
     ]
    }
   ],
   "source": [
    "'''\n",
    "Q. Write a Python Program, to print all the indexes of all occurences of\n",
    "letter 'p' appeared in the string using loop:-\n",
    "Input:- 'peter piper picked a peck of pickled peppers.'\n",
    "Output:-\n",
    "0\n",
    "6\n",
    "8\n",
    "12\n",
    "21\n",
    "29\n",
    "37\n",
    "39\n",
    "40\n",
    "'''\n",
    "\n",
    "str = input(\"please enter your string:\")\n",
    "for i in range(0,findLen(str)-1,1):\n",
    "    if str[i] == 'p':\n",
    "        print(i)"
   ]
  },
  {
   "cell_type": "code",
   "execution_count": 4,
   "metadata": {},
   "outputs": [
    {
     "name": "stdout",
     "output_type": "stream",
     "text": [
      "please enter your string:peter piper picked a peck of pickled peppers\n",
      "['peter', 'piper', 'picked', 'a', 'peck', 'of', 'pickled', 'peppers']\n"
     ]
    }
   ],
   "source": [
    "'''\n",
    "Q. Write a python program to find below output using loop:-\n",
    "Input:- 'peter piper picked a peck of pickled peppers.'\n",
    "Output:- [ 'peter' , 'piper' , 'picked' , 'a' , 'peck' , 'of' , 'pickled' ,\n",
    "'peppers' ]\n",
    "'''\n",
    "\n",
    "str = input(\"please enter your string:\")\n",
    "def split_space(str):\n",
    "    tempstr = ''\n",
    "    str_lst = []\n",
    "    for i in range(0,findLen(str),1):\n",
    "        if str[i] == ' ':\n",
    "            str_lst.append(tempstr)\n",
    "            tempstr = ''\n",
    "        else:\n",
    "            tempstr +=str[i]\n",
    "    str_lst.append(tempstr)\n",
    "    return str_lst\n",
    "\n",
    "print(split_space(str))"
   ]
  },
  {
   "cell_type": "code",
   "execution_count": 5,
   "metadata": {},
   "outputs": [
    {
     "name": "stdout",
     "output_type": "stream",
     "text": [
      "please enter your string:peter piper picked a peck of pickled peppers\n",
      "peppers pickled of peck a picked piper peter \n",
      "------------------------------------\n"
     ]
    }
   ],
   "source": [
    "'''\n",
    "Q. Write a python program to find below output using loop:-\n",
    "Input:- 'peter piper picked a peck of pickled peppers.'\n",
    "Output:- 'peppers pickled of peck a picked piper peter'\n",
    "'''\n",
    "\n",
    "str = input(\"please enter your string:\")\n",
    "reverse_str = ''\n",
    "for st in (split_space(str))[::-1]:\n",
    "    reverse_str += st\n",
    "    reverse_str += ' '\n",
    "print(reverse_str)\n",
    "\n",
    "print(\"------------------------------------\")\n",
    "\n"
   ]
  },
  {
   "cell_type": "code",
   "execution_count": 6,
   "metadata": {},
   "outputs": [
    {
     "name": "stdout",
     "output_type": "stream",
     "text": [
      "please enter your string:peter piper picked a peck of pickled peppers.\n",
      ".sreppep delkcip fo kcep a dekcip repip retep\n"
     ]
    }
   ],
   "source": [
    "'''\n",
    "Q. Write a python program to find below output using loop:-\n",
    "Input:- 'peter piper picked a peck of pickled peppers.'\n",
    "Output:- '.sreppep delkcip fo kcep a dekcip repip retep'\n",
    "'''\n",
    "str = input(\"please enter your string:\")\n",
    "def revers_str(str):\n",
    "    rev_str = \"\"\n",
    "    for i in range(findLen(str)-1,-1,-1):\n",
    "        rev_str += str[i]\n",
    "    return rev_str\n",
    "print(revers_str(str))"
   ]
  },
  {
   "cell_type": "code",
   "execution_count": 9,
   "metadata": {},
   "outputs": [
    {
     "name": "stdout",
     "output_type": "stream",
     "text": [
      "please enter your string:peter piper picked a peck of pickled peppers\n",
      " retep repip dekcip a kcep fo delkcipsreppep\n"
     ]
    }
   ],
   "source": [
    "'''\n",
    "Q. Write a python program to find below output using loop:-\n",
    "Input:- 'peter piper picked a peck of pickled peppers.'\n",
    "Output:- 'retep repip dekcip a kcep fo delkcip sreppep'\n",
    "'''\n",
    "\n",
    "str1 = input(\"please enter your string:\")\n",
    "word_rev = ''\n",
    "\n",
    "def split_space1(str):\n",
    "    tempstr = ''\n",
    "    str_lst = []\n",
    "    for i in range(0,findLen(str),1):\n",
    "        if str[i] == ' ':\n",
    "            tempstr += ' '\n",
    "            str_lst.append(tempstr)\n",
    "            tempstr = ''\n",
    "        else:\n",
    "            tempstr +=str[i]\n",
    "    str_lst.append(tempstr)\n",
    "    return str_lst\n",
    "\n",
    "for str in split_space1(str1):\n",
    "    for ch in revers_str(str):\n",
    "        word_rev+=ch\n",
    "print(word_rev)"
   ]
  },
  {
   "cell_type": "code",
   "execution_count": 12,
   "metadata": {},
   "outputs": [
    {
     "name": "stdout",
     "output_type": "stream",
     "text": [
      "please enter your string:peter piper picked a peck of pickled peppers\n",
      "Peter Piper Picked A Peck Of Pickled Pepper\n"
     ]
    }
   ],
   "source": [
    "'''\n",
    "Q. Write a python program to find below output using loop:-\n",
    "Input:- 'peter piper picked a peck of pickled peppers.'\n",
    "Output:- 'Peter Piper Picked A Peck Of Pickled Peppers'\n",
    "'\n",
    "\n",
    "str = input(\"please enter your string:\")\n",
    "new_str = ''\n",
    "for i in range(0,findLen(str)-1,1):\n",
    "    if str[i-1] == ' ' or i == 0:\n",
    "        new_str+=str[i].upper()\n",
    "    else:\n",
    "        new_str+=str[i]\n",
    "print(new_str)"
   ]
  },
  {
   "cell_type": "code",
   "execution_count": 14,
   "metadata": {},
   "outputs": [
    {
     "name": "stdout",
     "output_type": "stream",
     "text": [
      "please enter your string:Peter Piper Picked A Peck Of Pickled Peppers\n",
      "Peter piper picked a peck of pickled pepper\n"
     ]
    }
   ],
   "source": [
    "'''\n",
    "Q. Write a python program to find below output using loop:-\n",
    "Input:- 'Peter Piper Picked A Peck Of Pickled Peppers.'\n",
    "Output:- 'Peter piper picked a peck of pickled peppers'\n",
    "'''\n",
    "\n",
    "str = input(\"please enter your string:\")\n",
    "new_str = ''\n",
    "for i in range(0,findLen(str)-1,1):\n",
    "    if str[i-1] == ' ':\n",
    "        new_str+=str[i].lower()\n",
    "    else:\n",
    "        new_str+=str[i]\n",
    "print(new_str)"
   ]
  },
  {
   "cell_type": "code",
   "execution_count": 21,
   "metadata": {},
   "outputs": [
    {
     "name": "stdout",
     "output_type": "stream",
     "text": [
      "29\n"
     ]
    }
   ],
   "source": [
    "'''\n",
    "Q. Write a python program to implement index method using loop. If\n",
    "sub_str is found in my_str then it will print the index\n",
    "of first occurrence of first character of matching string in my_str:-\n",
    "Input:- my_str = 'Peter Piper Picked A Peck Of Pickled Peppers.',\n",
    "sub_str = 'Pickl'\n",
    "Output:- 29\n",
    "'''\n",
    "\n",
    "def find_sub_str_start(str,sub_str):\n",
    "    start_ind = 0\n",
    "    flag = True;\n",
    "    for i in range(0,findLen(str),1):\n",
    "        start_ind = i\n",
    "        for count_ind in range(0,findLen(sub_str),1):\n",
    "            if str[start_ind] != sub_str[count_ind]:\n",
    "                flag = False\n",
    "                break;\n",
    "            start_ind = start_ind + 1\n",
    "        if flag != False:\n",
    "            start_ind = i\n",
    "            break\n",
    "        flag = True\n",
    "    return start_ind\n",
    "\n",
    "str = 'Peter Piper Picked A Peck Of Pickled Peppers.' \n",
    "sub_str = 'Pickl'\n",
    "print(find_sub_str_start(str,sub_str))"
   ]
  },
  {
   "cell_type": "code",
   "execution_count": 31,
   "metadata": {},
   "outputs": [
    {
     "name": "stdout",
     "output_type": "stream",
     "text": [
      "Peter Piper Picked A Pack Of Pickled Peppers.\n"
     ]
    }
   ],
   "source": [
    "'''\n",
    "Q. Write a python program to implement replace method using loop. If\n",
    "sub_str is found in my_str then it will replace the first\n",
    "occurrence of sub_str with new_str else it will will print sub_str not\n",
    "found:-\n",
    "Input:- my_str = 'Peter Piper Picked A Peck Of Pickled Peppers.' ,\n",
    "sub_str = 'Peck' , new_str = 'Pack'\n",
    "Output:- 'Peter Piper Picked A Pack Of Pickled Peppers.'\n",
    "'''\n",
    "\n",
    "my_str = 'Peter Piper Picked A Peck Of Pickled Peppers.'\n",
    "sub_str = 'Peck'\n",
    "new_str = 'Pack'\n",
    "\n",
    "sub_start = find_sub_str_start(str,sub_str)\n",
    "new_str_len = findLen(new_str)\n",
    "sub_end = sub_start+new_str_len\n",
    "out_str = ''\n",
    "j=0\n",
    "for i in range(0,findLen(my_str),1): \n",
    "    if i >= sub_start and i < sub_end:\n",
    "        out_str += new_str[j]\n",
    "        j = j + 1\n",
    "    else:\n",
    "        out_str += my_str[i]\n",
    "print(out_str)"
   ]
  },
  {
   "cell_type": "code",
   "execution_count": 44,
   "metadata": {},
   "outputs": [
    {
     "name": "stdout",
     "output_type": "stream",
     "text": [
      "Peter Piper Picked A Peck Of Pickled Peppers.\n"
     ]
    }
   ],
   "source": [
    "'''\n",
    "Q. Write a python program to find below output (implements rjust and\n",
    "ljust) using loop:-\n",
    "Input:- 'Peter Piper Picked A Peck Of Pickled Peppers.' , sub_str =\n",
    "'Peck' ,\n",
    "Output:- '*********************Peck********************'\n",
    "'''\n",
    "\n",
    "my_str = 'Peter Piper Picked A Peck Of Pickled Peppers.' \n",
    "sub_str ='Peck'\n",
    "\n",
    "sub_start = find_sub_str_start(str,sub_str)\n",
    "new_str_len = findLen(new_str)\n",
    "sub_end = sub_start+new_str_len\n",
    "\n",
    "my_str.ljust(sub_start-1, '*')\n",
    "my_str.rjust(sub_end, '*')\n",
    "print(my_str)"
   ]
  },
  {
   "cell_type": "code",
   "execution_count": 45,
   "metadata": {},
   "outputs": [
    {
     "data": {
      "text/plain": [
       "\"\\nQ. Write a python program to find below output using loop:-\\nInput:- 'This is Python class' , sep = ' is' ,\\nOutput:- [ 'This' , 'is' , 'Python class' ]\\n\""
      ]
     },
     "execution_count": 45,
     "metadata": {},
     "output_type": "execute_result"
    }
   ],
   "source": [
    "'''\n",
    "Q. Write a python program to find below output using loop:-\n",
    "Input:- 'This is Python class' , sep = ' is' ,\n",
    "Output:- [ 'This' , 'is' , 'Python class' ]\n",
    "'''"
   ]
  },
  {
   "cell_type": "code",
   "execution_count": null,
   "metadata": {},
   "outputs": [],
   "source": []
  },
  {
   "cell_type": "code",
   "execution_count": null,
   "metadata": {},
   "outputs": [],
   "source": []
  },
  {
   "cell_type": "code",
   "execution_count": null,
   "metadata": {},
   "outputs": [],
   "source": []
  }
 ],
 "metadata": {
  "kernelspec": {
   "display_name": "Python 3",
   "language": "python",
   "name": "python3"
  },
  "language_info": {
   "codemirror_mode": {
    "name": "ipython",
    "version": 3
   },
   "file_extension": ".py",
   "mimetype": "text/x-python",
   "name": "python",
   "nbconvert_exporter": "python",
   "pygments_lexer": "ipython3",
   "version": "3.8.5"
  }
 },
 "nbformat": 4,
 "nbformat_minor": 4
}
