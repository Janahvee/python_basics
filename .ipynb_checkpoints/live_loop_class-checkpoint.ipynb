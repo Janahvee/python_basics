{
 "cells": [
  {
   "cell_type": "code",
   "execution_count": 3,
   "metadata": {},
   "outputs": [
    {
     "name": "stdout",
     "output_type": "stream",
     "text": [
      "1\n",
      "0\n",
      "-1\n",
      "-2\n",
      "-3\n",
      "-4\n",
      "-5\n",
      "-6\n",
      "-7\n",
      "-8\n",
      "-9\n",
      "-10\n"
     ]
    }
   ],
   "source": [
    "i = 1\n",
    "while i >= -10:\n",
    "    print(i)\n",
    "    i = i - 1"
   ]
  },
  {
   "cell_type": "code",
   "execution_count": 1,
   "metadata": {},
   "outputs": [
    {
     "name": "stdout",
     "output_type": "stream",
     "text": [
      "44\n",
      "retep repip dekcip a kcep fo delkcip sreppep \n"
     ]
    }
   ],
   "source": [
    "my_str = 'peter piper picked a peck of pickled peppers'\n",
    "emp_lst= []\n",
    "str = ''\n",
    "print(len(my_str))\n",
    "\n",
    "for ch in range(len(my_str)-1,-1,-1):\n",
    "    if my_str[ch] == ' ':\n",
    "        emp_lst.append(str)     \n",
    "        str = ''\n",
    "    elif ch == 0:\n",
    "        str += my_str[ch]\n",
    "        emp_lst.append(str)\n",
    "    else:\n",
    "        str += my_str[ch]\n",
    "\n",
    "out_str = ''\n",
    "for str in emp_lst[::-1]:\n",
    "    out_str = out_str + str + ' '\n",
    "    \n",
    "print(out_str)\n",
    "\n"
   ]
  },
  {
   "cell_type": "code",
   "execution_count": 2,
   "metadata": {},
   "outputs": [
    {
     "name": "stdout",
     "output_type": "stream",
     "text": [
      "['peter', 'piper', 'picked', 'a', 'peck', 'of', 'pickled', 'peppers']\n",
      "\n"
     ]
    }
   ],
   "source": [
    "my_str= 'peter piper picked a peck of pickled peppers'\n",
    "\n",
    "spl_str = my_str.split(' ')\n",
    "out_str=''\n",
    "print(spl_str)\n",
    "for i in spl_str:\n",
    "    out_str.join(i[::-1])\n",
    "print(out_str)"
   ]
  },
  {
   "cell_type": "code",
   "execution_count": null,
   "metadata": {},
   "outputs": [],
   "source": []
  }
 ],
 "metadata": {
  "kernelspec": {
   "display_name": "Python 3",
   "language": "python",
   "name": "python3"
  },
  "language_info": {
   "codemirror_mode": {
    "name": "ipython",
    "version": 3
   },
   "file_extension": ".py",
   "mimetype": "text/x-python",
   "name": "python",
   "nbconvert_exporter": "python",
   "pygments_lexer": "ipython3",
   "version": "3.8.5"
  }
 },
 "nbformat": 4,
 "nbformat_minor": 4
}
